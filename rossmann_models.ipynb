{
 "cells": [
  {
   "cell_type": "markdown",
   "id": "483988b3-c95f-406c-9654-16ce4d442958",
   "metadata": {},
   "source": [
    "# Rossman Sales Prediction - Part 2"
   ]
  },
  {
   "cell_type": "markdown",
   "id": "fd03c64d-45f2-45f2-a146-8a41e9e8c102",
   "metadata": {},
   "source": [
    "# Imports"
   ]
  },
  {
   "cell_type": "code",
   "execution_count": 1,
   "id": "31b66b64-87b5-472f-9ee9-b3b63aef79c0",
   "metadata": {},
   "outputs": [],
   "source": [
    "import pandas as pd\n",
    "import numpy as np\n",
    "import matplotlib.pyplot as plt\n",
    "import seaborn as sns\n",
    "import pickle\n",
    "\n",
    "import datetime\n",
    "from sklearn.preprocessing import RobustScaler, MinMaxScaler, LabelEncoder\n",
    "from sklearn.metrics import mean_absolute_error, mean_absolute_percentage_error, mean_squared_error\n",
    "from sklearn.linear_model import LinearRegression\n",
    "from sklearn.ensemble import RandomForestRegressor"
   ]
  },
  {
   "cell_type": "markdown",
   "id": "621b4ffe-b127-40e5-aa2c-7563434ba4e4",
   "metadata": {},
   "source": [
    "# Settings and Auxiliary Functions"
   ]
  },
  {
   "cell_type": "code",
   "execution_count": 2,
   "id": "20a8f80f-601f-45fd-9961-5b9b2cf2c53b",
   "metadata": {},
   "outputs": [],
   "source": [
    "plt.rcParams[\"figure.figsize\"] = [9,6]\n",
    "sns.set_theme()"
   ]
  },
  {
   "cell_type": "code",
   "execution_count": 3,
   "id": "182b6990-d026-449d-8058-45d036544991",
   "metadata": {},
   "outputs": [],
   "source": [
    "def calc_error( model_name, y_true, y_pred):\n",
    "    mae = mean_absolute_error(y_true, y_pred)\n",
    "    mape = mean_absolute_percentage_error(y_true, y_pred)\n",
    "    rmse = mean_squared_error(y_true, y_pred, squared=False)\n",
    "    \n",
    "    return pd.DataFrame({\"Model\": model_name, \"MAE\": mae, \"MAPE\": mape, \"RMSE\": rmse}, index=[0])"
   ]
  },
  {
   "cell_type": "code",
   "execution_count": 4,
   "id": "fff8c6d5-68d3-4503-ab35-a39833c92dae",
   "metadata": {},
   "outputs": [],
   "source": [
    "def plot_scatter(y_test, y_pred):\n",
    "    fig, ax = plt.subplots(figsize=(6,5))\n",
    "    min_x, max_x = y_test.min(), y_test.max()\n",
    "    sns.scatterplot(x=y_test, y=y_pred)\n",
    "    plt.plot([min_x, max_x],[min_x, max_x])\n",
    "    ax.set_xlabel(\"Actual Sales\")\n",
    "    ax.set_ylabel(\"Predicted Sales\")\n",
    "    return None  "
   ]
  },
  {
   "cell_type": "code",
   "execution_count": 5,
   "id": "79f44436-42fe-477f-ada7-57c5999b1d91",
   "metadata": {},
   "outputs": [],
   "source": [
    "def cross_validate(data, n_splits, model_name, model):\n",
    "    mae_list = []\n",
    "    mape_list = []\n",
    "    rmse_list = []\n",
    "    \n",
    "    for k in reversed(range(1, n_splits+1)):\n",
    "        # Validation interval of 6 weeks\n",
    "        val_start_date = data[\"Date\"].max() - datetime.timedelta(days=k*6*7)\n",
    "        val_end_date = data[\"Date\"].max() - datetime.timedelta(days=(k-1)*6*7)\n",
    "        \n",
    "        training = data[data[\"Date\"] < val_start_date]\n",
    "        validation = data[(data[\"Date\"] >= val_start_date) & (data[\"Date\"] <= val_end_date)]\n",
    "        \n",
    "        X_train = training.drop(columns=[\"Date\", \"Sales\"])\n",
    "        y_train = training[\"Sales\"]\n",
    "        \n",
    "        X_valid = validation.drop(columns=[\"Date\", \"Sales\"])\n",
    "        y_valid = validation[\"Sales\"]\n",
    "        \n",
    "        m = model.fit(X_train, y_train)\n",
    "        y_pred = m.predict(X_valid)\n",
    "        \n",
    "        error = calc_error(model_name, np.exp(y_valid), np.exp(y_pred))\n",
    "        \n",
    "        mae_list.append(error[\"MAE\"])\n",
    "        mape_list.append(error[\"MAPE\"])\n",
    "        rmse_list.append(error[\"RMSE\"])\n",
    "        \n",
    "    return pd.DataFrame( {\"Model name\":model_name, \"MAE\": np.round(np.mean(mae_list), 2).astype(str) + \" +/- \" + np.round(np.std(mae_list), 2).astype(str),\n",
    "                          \"MAPE\": np.round(np.mean(mape_list), 2).astype(str) + \" +/- \" + np.round(np.std(mape_list), 2).astype(str),\n",
    "                          \"RMSE\": np.round(np.mean(rmse_list), 2).astype(str) + \" +/- \" + np.round(np.std(rmse_list), 2).astype(str)}, index=[0])"
   ]
  },
  {
   "cell_type": "markdown",
   "id": "fbdcbf6d-54e2-4621-84e7-7a7fc491ca26",
   "metadata": {},
   "source": [
    "# Data Loading"
   ]
  },
  {
   "cell_type": "code",
   "execution_count": 20,
   "id": "b13f2e64-bb09-4b39-b3ab-b02b58bf3aa1",
   "metadata": {},
   "outputs": [],
   "source": [
    "data = pd.read_csv(\"filtered_data.csv\", low_memory=False, index_col=0)"
   ]
  },
  {
   "cell_type": "code",
   "execution_count": 21,
   "id": "c97921ed-b6b5-4fb7-b656-4606581b3e0a",
   "metadata": {},
   "outputs": [
    {
     "data": {
      "text/html": [
       "<div>\n",
       "<style scoped>\n",
       "    .dataframe tbody tr th:only-of-type {\n",
       "        vertical-align: middle;\n",
       "    }\n",
       "\n",
       "    .dataframe tbody tr th {\n",
       "        vertical-align: top;\n",
       "    }\n",
       "\n",
       "    .dataframe thead th {\n",
       "        text-align: right;\n",
       "    }\n",
       "</style>\n",
       "<table border=\"1\" class=\"dataframe\">\n",
       "  <thead>\n",
       "    <tr style=\"text-align: right;\">\n",
       "      <th></th>\n",
       "      <th>Store</th>\n",
       "      <th>DayOfWeek</th>\n",
       "      <th>Date</th>\n",
       "      <th>Sales</th>\n",
       "      <th>Promo</th>\n",
       "      <th>StoreType</th>\n",
       "      <th>Assortment</th>\n",
       "      <th>Promo2</th>\n",
       "    </tr>\n",
       "  </thead>\n",
       "  <tbody>\n",
       "    <tr>\n",
       "      <th>0</th>\n",
       "      <td>1</td>\n",
       "      <td>5</td>\n",
       "      <td>2015-07-31</td>\n",
       "      <td>5263</td>\n",
       "      <td>1</td>\n",
       "      <td>c</td>\n",
       "      <td>basic</td>\n",
       "      <td>0</td>\n",
       "    </tr>\n",
       "    <tr>\n",
       "      <th>1</th>\n",
       "      <td>2</td>\n",
       "      <td>5</td>\n",
       "      <td>2015-07-31</td>\n",
       "      <td>6064</td>\n",
       "      <td>1</td>\n",
       "      <td>a</td>\n",
       "      <td>basic</td>\n",
       "      <td>1</td>\n",
       "    </tr>\n",
       "    <tr>\n",
       "      <th>2</th>\n",
       "      <td>3</td>\n",
       "      <td>5</td>\n",
       "      <td>2015-07-31</td>\n",
       "      <td>8314</td>\n",
       "      <td>1</td>\n",
       "      <td>a</td>\n",
       "      <td>basic</td>\n",
       "      <td>1</td>\n",
       "    </tr>\n",
       "    <tr>\n",
       "      <th>3</th>\n",
       "      <td>4</td>\n",
       "      <td>5</td>\n",
       "      <td>2015-07-31</td>\n",
       "      <td>13995</td>\n",
       "      <td>1</td>\n",
       "      <td>c</td>\n",
       "      <td>extended</td>\n",
       "      <td>0</td>\n",
       "    </tr>\n",
       "    <tr>\n",
       "      <th>4</th>\n",
       "      <td>5</td>\n",
       "      <td>5</td>\n",
       "      <td>2015-07-31</td>\n",
       "      <td>4822</td>\n",
       "      <td>1</td>\n",
       "      <td>a</td>\n",
       "      <td>basic</td>\n",
       "      <td>0</td>\n",
       "    </tr>\n",
       "  </tbody>\n",
       "</table>\n",
       "</div>"
      ],
      "text/plain": [
       "   Store  DayOfWeek        Date  Sales  Promo StoreType Assortment  Promo2\n",
       "0      1          5  2015-07-31   5263      1         c      basic       0\n",
       "1      2          5  2015-07-31   6064      1         a      basic       1\n",
       "2      3          5  2015-07-31   8314      1         a      basic       1\n",
       "3      4          5  2015-07-31  13995      1         c   extended       0\n",
       "4      5          5  2015-07-31   4822      1         a      basic       0"
      ]
     },
     "execution_count": 21,
     "metadata": {},
     "output_type": "execute_result"
    }
   ],
   "source": [
    "data.head()"
   ]
  },
  {
   "cell_type": "code",
   "execution_count": 22,
   "id": "fd788e5e-126c-4660-931c-b8d6f7c55399",
   "metadata": {},
   "outputs": [],
   "source": [
    "data[\"Date\"] = data[\"Date\"].astype(\"datetime64\")"
   ]
  },
  {
   "cell_type": "markdown",
   "id": "e62622ef-f7db-486f-88d5-25c516da30b3",
   "metadata": {},
   "source": [
    "# Data Preparation"
   ]
  },
  {
   "cell_type": "markdown",
   "id": "967c5381-8c17-46a4-bbea-3725687b4de2",
   "metadata": {},
   "source": [
    "## Encoding"
   ]
  },
  {
   "cell_type": "code",
   "execution_count": 23,
   "id": "650ef388-a913-40ad-b117-4b23cb36eef2",
   "metadata": {},
   "outputs": [],
   "source": [
    "le = LabelEncoder()\n",
    "data[\"StoreType\"] = le.fit_transform(data[\"StoreType\"])\n",
    "pickle.dump(le, open('data/storetype_encoder.pkl', 'wb'))\n",
    "\n",
    "data[\"Assortment\"] = data[\"Assortment\"].map({\"basic\":1, \"extra\":2, \"extended\":3})"
   ]
  },
  {
   "cell_type": "markdown",
   "id": "125daf6a-8137-4ae2-a137-9a065bc77c2d",
   "metadata": {},
   "source": [
    "## Cyclical Variables"
   ]
  },
  {
   "cell_type": "code",
   "execution_count": 24,
   "id": "b8f6bf3e-f173-46fb-9e8a-0efe3a589a5d",
   "metadata": {},
   "outputs": [],
   "source": [
    "data[\"Day\"] = data[\"Date\"].dt.day\n",
    "data[\"Month\"] = data[\"Date\"].dt.month\n",
    "data[\"Year\"] = data[\"Date\"].dt.year\n",
    "data[\"Week\"] = data[\"Date\"].dt.isocalendar().week"
   ]
  },
  {
   "cell_type": "code",
   "execution_count": 25,
   "id": "7b8bb7b2-6462-4671-8711-1ad5acd50a78",
   "metadata": {},
   "outputs": [],
   "source": [
    "data[\"Day_sin\"] = data[\"Day\"].apply(lambda x: np.sin(x * np.pi/31))\n",
    "data[\"Day_cos\"] = data[\"Day\"].apply(lambda x: np.cos(x * np.pi/31))\n",
    "\n",
    "data[\"DayOfWeek_sin\"] = data[\"DayOfWeek\"].apply(lambda x: np.sin(x * np.pi/7))\n",
    "data[\"DayOfWeek_cos\"] = data[\"DayOfWeek\"].apply(lambda x: np.cos(x * np.pi/7))\n",
    "\n",
    "data[\"Week_sin\"] = data[\"Week\"].apply(lambda x: np.sin(x * np.pi/52))\n",
    "data[\"Week_cos\"] = data[\"Week\"].apply(lambda x: np.cos(x * np.pi/52))\n",
    "\n",
    "data[\"Month_sin\"] = data[\"Month\"].apply(lambda x: np.sin(x * np.pi/12))\n",
    "data[\"Month_cos\"] = data[\"Month\"].apply(lambda x: np.cos(x * np.pi/12))"
   ]
  },
  {
   "cell_type": "code",
   "execution_count": 26,
   "id": "76eb0fc5-e7f2-4173-a025-cdecc95ff93c",
   "metadata": {},
   "outputs": [],
   "source": [
    "data = data.drop(columns=[\"DayOfWeek\", \"Day\", \"Month\", \"Week\"])"
   ]
  },
  {
   "cell_type": "markdown",
   "id": "555b462e-b2db-4b7a-8843-41c6c5750beb",
   "metadata": {},
   "source": [
    "## Target Variable Transformation"
   ]
  },
  {
   "cell_type": "code",
   "execution_count": 27,
   "id": "09c41291-dc7f-4a0e-ae77-b86b643409c2",
   "metadata": {},
   "outputs": [],
   "source": [
    "data[\"Sales\"] = np.log(data[\"Sales\"])"
   ]
  },
  {
   "cell_type": "markdown",
   "id": "85d37697-4677-45e4-b729-ae29b8ab96da",
   "metadata": {},
   "source": [
    "# Feature Selection"
   ]
  },
  {
   "cell_type": "markdown",
   "id": "37dd3063-5dac-4821-ba77-48fe7fb4d567",
   "metadata": {},
   "source": [
    "## Test-train Split"
   ]
  },
  {
   "cell_type": "code",
   "execution_count": 28,
   "id": "58ee86c1-db92-4582-af18-f81a06248e31",
   "metadata": {},
   "outputs": [],
   "source": [
    "aux = data.copy()"
   ]
  },
  {
   "cell_type": "code",
   "execution_count": 29,
   "id": "ae605c60-dc8d-4b46-b2a7-5f3ccb710c90",
   "metadata": {},
   "outputs": [],
   "source": [
    "time_cutoff = aux[\"Date\"].max() - datetime.timedelta(days=42)\n",
    "\n",
    "train_df = aux[aux[\"Date\"] < time_cutoff]\n",
    "\n",
    "test_df = aux[aux[\"Date\"] >= time_cutoff]"
   ]
  },
  {
   "cell_type": "code",
   "execution_count": 30,
   "id": "1904c0a1-49de-4f87-952a-2e1f8a07d794",
   "metadata": {},
   "outputs": [],
   "source": [
    "X_train = train_df.copy().drop(columns=[\"Sales\", \"Date\"])\n",
    "y_train = train_df[\"Sales\"].copy()\n",
    "\n",
    "X_test = test_df.copy().drop(columns=[\"Sales\", \"Date\"])\n",
    "y_test = test_df[\"Sales\"].copy()"
   ]
  },
  {
   "cell_type": "markdown",
   "id": "98aa56b7-5a88-4fd2-b271-0d129c6dbd3f",
   "metadata": {},
   "source": [
    "# Model Training"
   ]
  },
  {
   "cell_type": "markdown",
   "id": "b286c039-c217-41da-ba64-6610e2051cfe",
   "metadata": {},
   "source": [
    "## Baseline (Average) Model"
   ]
  },
  {
   "cell_type": "code",
   "execution_count": 31,
   "id": "e8c78dab-0012-4b14-83f0-50dd28b86162",
   "metadata": {},
   "outputs": [
    {
     "data": {
      "text/html": [
       "<div>\n",
       "<style scoped>\n",
       "    .dataframe tbody tr th:only-of-type {\n",
       "        vertical-align: middle;\n",
       "    }\n",
       "\n",
       "    .dataframe tbody tr th {\n",
       "        vertical-align: top;\n",
       "    }\n",
       "\n",
       "    .dataframe thead th {\n",
       "        text-align: right;\n",
       "    }\n",
       "</style>\n",
       "<table border=\"1\" class=\"dataframe\">\n",
       "  <thead>\n",
       "    <tr style=\"text-align: right;\">\n",
       "      <th></th>\n",
       "      <th>Model</th>\n",
       "      <th>MAE</th>\n",
       "      <th>MAPE</th>\n",
       "      <th>RMSE</th>\n",
       "    </tr>\n",
       "  </thead>\n",
       "  <tbody>\n",
       "    <tr>\n",
       "      <th>0</th>\n",
       "      <td>Baseline</td>\n",
       "      <td>1429.764812</td>\n",
       "      <td>0.216813</td>\n",
       "      <td>1939.336071</td>\n",
       "    </tr>\n",
       "  </tbody>\n",
       "</table>\n",
       "</div>"
      ],
      "text/plain": [
       "      Model          MAE      MAPE         RMSE\n",
       "0  Baseline  1429.764812  0.216813  1939.336071"
      ]
     },
     "execution_count": 31,
     "metadata": {},
     "output_type": "execute_result"
    }
   ],
   "source": [
    "aux1 = X_train.copy()\n",
    "aux1[\"Sales\"] = y_train.copy()\n",
    "aux1 = aux1[[\"Store\", \"Sales\"]].groupby(\"Store\").mean().reset_index()\n",
    "\n",
    "aux2 = X_test.copy()\n",
    "bl_pred = pd.merge(aux1, aux2, how=\"right\", on=\"Store\")[\"Sales\"]\n",
    "\n",
    "baseline_error = calc_error(\"Baseline\", np.exp(y_test).values, np.exp(bl_pred))\n",
    "baseline_error"
   ]
  },
  {
   "cell_type": "code",
   "execution_count": 32,
   "id": "f9e325f8-ebbe-4160-b224-e56a40c73852",
   "metadata": {},
   "outputs": [
    {
     "data": {
      "image/png": "[encoded data removed]",
      "text/plain": [
       "<Figure size 432x360 with 1 Axes>"
      ]
     },
     "metadata": {},
     "output_type": "display_data"
    }
   ],
   "source": [
    "plot_scatter(np.exp(y_test).values, np.exp(bl_pred))"
   ]
  },
  {
   "cell_type": "markdown",
   "id": "d714d35d-d150-4c50-8ca6-ee53ae509e56",
   "metadata": {},
   "source": [
    "## Linear Regression"
   ]
  },
  {
   "cell_type": "code",
   "execution_count": 33,
   "id": "96843e3a-d699-4723-9fa4-12b6a44e3e69",
   "metadata": {},
   "outputs": [
    {
     "data": {
      "text/html": [
       "<div>\n",
       "<style scoped>\n",
       "    .dataframe tbody tr th:only-of-type {\n",
       "        vertical-align: middle;\n",
       "    }\n",
       "\n",
       "    .dataframe tbody tr th {\n",
       "        vertical-align: top;\n",
       "    }\n",
       "\n",
       "    .dataframe thead th {\n",
       "        text-align: right;\n",
       "    }\n",
       "</style>\n",
       "<table border=\"1\" class=\"dataframe\">\n",
       "  <thead>\n",
       "    <tr style=\"text-align: right;\">\n",
       "      <th></th>\n",
       "      <th>Model</th>\n",
       "      <th>MAE</th>\n",
       "      <th>MAPE</th>\n",
       "      <th>RMSE</th>\n",
       "    </tr>\n",
       "  </thead>\n",
       "  <tbody>\n",
       "    <tr>\n",
       "      <th>0</th>\n",
       "      <td>Linear Regression</td>\n",
       "      <td>1872.234082</td>\n",
       "      <td>0.295008</td>\n",
       "      <td>2676.976699</td>\n",
       "    </tr>\n",
       "  </tbody>\n",
       "</table>\n",
       "</div>"
      ],
      "text/plain": [
       "               Model          MAE      MAPE         RMSE\n",
       "0  Linear Regression  1872.234082  0.295008  2676.976699"
      ]
     },
     "execution_count": 33,
     "metadata": {},
     "output_type": "execute_result"
    }
   ],
   "source": [
    "lr = LinearRegression().fit(X_train, y_train)\n",
    "l_pred = lr.predict(X_test)\n",
    "linear_error = calc_error(\"Linear Regression\", np.exp(y_test), np.exp(l_pred))\n",
    "linear_error"
   ]
  },
  {
   "cell_type": "code",
   "execution_count": 34,
   "id": "d411ef3d-1878-4264-8340-b623184c59af",
   "metadata": {},
   "outputs": [
    {
     "data": {
      "image/png": "[encoded data removed]",
      "text/plain": [
       "<Figure size 432x360 with 1 Axes>"
      ]
     },
     "metadata": {},
     "output_type": "display_data"
    }
   ],
   "source": [
    "plot_scatter(np.exp(y_test), np.exp(l_pred))"
   ]
  },
  {
   "cell_type": "markdown",
   "id": "4ad4ee9b-2831-4d5e-b496-a0eece07907d",
   "metadata": {},
   "source": [
    "## Random Forest Regression"
   ]
  },
  {
   "cell_type": "code",
   "execution_count": 35,
   "id": "79e58650-b135-4c9d-8417-f7a68613a0f8",
   "metadata": {
    "tags": []
   },
   "outputs": [],
   "source": [
    "rf = RandomForestRegressor(n_estimators=10, random_state=0)\n",
    "rf.fit(X_train, y_train)\n",
    "rf_pred = rf.predict(X_test)\n",
    "rf_error = calc_error(\"Random Forest\", np.exp(y_test), np.exp(rf_pred))"
   ]
  },
  {
   "cell_type": "code",
   "execution_count": 36,
   "id": "6f5c55a1-5eec-4570-b738-374a6d738dc5",
   "metadata": {},
   "outputs": [
    {
     "data": {
      "text/html": [
       "<div>\n",
       "<style scoped>\n",
       "    .dataframe tbody tr th:only-of-type {\n",
       "        vertical-align: middle;\n",
       "    }\n",
       "\n",
       "    .dataframe tbody tr th {\n",
       "        vertical-align: top;\n",
       "    }\n",
       "\n",
       "    .dataframe thead th {\n",
       "        text-align: right;\n",
       "    }\n",
       "</style>\n",
       "<table border=\"1\" class=\"dataframe\">\n",
       "  <thead>\n",
       "    <tr style=\"text-align: right;\">\n",
       "      <th></th>\n",
       "      <th>Model</th>\n",
       "      <th>MAE</th>\n",
       "      <th>MAPE</th>\n",
       "      <th>RMSE</th>\n",
       "    </tr>\n",
       "  </thead>\n",
       "  <tbody>\n",
       "    <tr>\n",
       "      <th>0</th>\n",
       "      <td>Random Forest</td>\n",
       "      <td>765.087107</td>\n",
       "      <td>0.113195</td>\n",
       "      <td>1158.529725</td>\n",
       "    </tr>\n",
       "  </tbody>\n",
       "</table>\n",
       "</div>"
      ],
      "text/plain": [
       "           Model         MAE      MAPE         RMSE\n",
       "0  Random Forest  765.087107  0.113195  1158.529725"
      ]
     },
     "execution_count": 36,
     "metadata": {},
     "output_type": "execute_result"
    }
   ],
   "source": [
    "rf_error"
   ]
  },
  {
   "cell_type": "code",
   "execution_count": 37,
   "id": "87731180-1371-4957-903d-3c1404b44f36",
   "metadata": {
    "tags": []
   },
   "outputs": [
    {
     "data": {
      "image/png": "[encoded data removed]",
      "text/plain": [
       "<Figure size 432x360 with 1 Axes>"
      ]
     },
     "metadata": {},
     "output_type": "display_data"
    }
   ],
   "source": [
    "plot_scatter(np.exp(y_test), np.exp(rf_pred))"
   ]
  },
  {
   "cell_type": "code",
   "execution_count": null,
   "id": "9ee4f954-19cd-48b0-8713-41183de2535a",
   "metadata": {},
   "outputs": [
    {
     "data": {
      "text/html": [
       "<div>\n",
       "<style scoped>\n",
       "    .dataframe tbody tr th:only-of-type {\n",
       "        vertical-align: middle;\n",
       "    }\n",
       "\n",
       "    .dataframe tbody tr th {\n",
       "        vertical-align: top;\n",
       "    }\n",
       "\n",
       "    .dataframe thead th {\n",
       "        text-align: right;\n",
       "    }\n",
       "</style>\n",
       "<table border=\"1\" class=\"dataframe\">\n",
       "  <thead>\n",
       "    <tr style=\"text-align: right;\">\n",
       "      <th></th>\n",
       "      <th>Model</th>\n",
       "      <th>MAE</th>\n",
       "      <th>MAPE</th>\n",
       "      <th>RMSE</th>\n",
       "    </tr>\n",
       "  </thead>\n",
       "  <tbody>\n",
       "    <tr>\n",
       "      <th>0</th>\n",
       "      <td>Random Forest</td>\n",
       "      <td>765.087107</td>\n",
       "      <td>0.113195</td>\n",
       "      <td>1158.529725</td>\n",
       "    </tr>\n",
       "    <tr>\n",
       "      <th>0</th>\n",
       "      <td>Baseline</td>\n",
       "      <td>1429.764812</td>\n",
       "      <td>0.216813</td>\n",
       "      <td>1939.336071</td>\n",
       "    </tr>\n",
       "    <tr>\n",
       "      <th>0</th>\n",
       "      <td>Linear Regression</td>\n",
       "      <td>1872.234082</td>\n",
       "      <td>0.295008</td>\n",
       "      <td>2676.976699</td>\n",
       "    </tr>\n",
       "  </tbody>\n",
       "</table>\n",
       "</div>"
      ],
      "text/plain": [
       "               Model          MAE      MAPE         RMSE\n",
       "0      Random Forest   765.087107  0.113195  1158.529725\n",
       "0           Baseline  1429.764812  0.216813  1939.336071\n",
       "0  Linear Regression  1872.234082  0.295008  2676.976699"
      ]
     },
     "execution_count": 24,
     "metadata": {},
     "output_type": "execute_result"
    }
   ],
   "source": [
    "error_table = pd.concat([baseline_error, linear_error, rf_error])\n",
    "error_table.sort_values(\"RMSE\")"
   ]
  },
  {
   "cell_type": "markdown",
   "id": "d23cf4db-82a7-4b33-857d-e0d77509f462",
   "metadata": {},
   "source": [
    "The Random Forest regression is the best so far, and a considerable improvement over the baseline, and it's the model we'll be using for now.\n",
    "\n",
    "For ease of porting it to an app, we will also train a smaller model:"
   ]
  },
  {
   "cell_type": "code",
   "execution_count": 65,
   "id": "510361ff-c1f0-468b-8456-a2b39121c7a5",
   "metadata": {},
   "outputs": [],
   "source": [
    "rf_small = RandomForestRegressor(n_estimators=5, max_depth=30)"
   ]
  },
  {
   "cell_type": "code",
   "execution_count": 66,
   "id": "22b90ab3-2c49-4320-b64c-b5dbdd973114",
   "metadata": {},
   "outputs": [
    {
     "data": {
      "text/plain": [
       "RandomForestRegressor(max_depth=30, n_estimators=5)"
      ]
     },
     "execution_count": 66,
     "metadata": {},
     "output_type": "execute_result"
    }
   ],
   "source": [
    "rf_small.fit(X_train, y_train)"
   ]
  },
  {
   "cell_type": "code",
   "execution_count": 67,
   "id": "53049dee-2073-4b7f-89c5-4866363dea0b",
   "metadata": {},
   "outputs": [],
   "source": [
    "rf_pred2 = rf_small.predict(X_test)\n",
    "rf_error2 = calc_error(\"Random Forest\", np.exp(y_test), np.exp(rf_pred2))"
   ]
  },
  {
   "cell_type": "code",
   "execution_count": 68,
   "id": "4a6dd189-4ace-46e5-a845-9016783462ce",
   "metadata": {},
   "outputs": [
    {
     "data": {
      "text/html": [
       "<div>\n",
       "<style scoped>\n",
       "    .dataframe tbody tr th:only-of-type {\n",
       "        vertical-align: middle;\n",
       "    }\n",
       "\n",
       "    .dataframe tbody tr th {\n",
       "        vertical-align: top;\n",
       "    }\n",
       "\n",
       "    .dataframe thead th {\n",
       "        text-align: right;\n",
       "    }\n",
       "</style>\n",
       "<table border=\"1\" class=\"dataframe\">\n",
       "  <thead>\n",
       "    <tr style=\"text-align: right;\">\n",
       "      <th></th>\n",
       "      <th>Model</th>\n",
       "      <th>MAE</th>\n",
       "      <th>MAPE</th>\n",
       "      <th>RMSE</th>\n",
       "    </tr>\n",
       "  </thead>\n",
       "  <tbody>\n",
       "    <tr>\n",
       "      <th>0</th>\n",
       "      <td>Random Forest</td>\n",
       "      <td>799.858182</td>\n",
       "      <td>0.116891</td>\n",
       "      <td>1236.016585</td>\n",
       "    </tr>\n",
       "  </tbody>\n",
       "</table>\n",
       "</div>"
      ],
      "text/plain": [
       "           Model         MAE      MAPE         RMSE\n",
       "0  Random Forest  799.858182  0.116891  1236.016585"
      ]
     },
     "execution_count": 68,
     "metadata": {},
     "output_type": "execute_result"
    }
   ],
   "source": [
    "rf_error2"
   ]
  },
  {
   "cell_type": "code",
   "execution_count": 69,
   "id": "ec98be50-9a0c-4d85-a8d2-acde03f1ee22",
   "metadata": {},
   "outputs": [
    {
     "data": {
      "image/png": "[encoded data removed]",
      "text/plain": [
       "<Figure size 432x360 with 1 Axes>"
      ]
     },
     "metadata": {},
     "output_type": "display_data"
    }
   ],
   "source": [
    "plot_scatter(np.exp(y_test), np.exp(rf_pred2))"
   ]
  },
  {
   "cell_type": "code",
   "execution_count": 71,
   "id": "768b6c04-98b2-4074-abf4-758e7e0560a6",
   "metadata": {},
   "outputs": [],
   "source": [
    "pickle.dump(rf_small, open(\"data/rf_model.pkl\", \"wb\"))"
   ]
  },
  {
   "cell_type": "markdown",
   "id": "f069f929-3e7b-487f-9719-7ae0a5872a42",
   "metadata": {},
   "source": [
    "# Cross-validation"
   ]
  },
  {
   "cell_type": "code",
   "execution_count": 25,
   "id": "eabe901d-0ef1-4bba-a9cd-73648b6fc16b",
   "metadata": {},
   "outputs": [
    {
     "data": {
      "text/html": [
       "<div>\n",
       "<style scoped>\n",
       "    .dataframe tbody tr th:only-of-type {\n",
       "        vertical-align: middle;\n",
       "    }\n",
       "\n",
       "    .dataframe tbody tr th {\n",
       "        vertical-align: top;\n",
       "    }\n",
       "\n",
       "    .dataframe thead th {\n",
       "        text-align: right;\n",
       "    }\n",
       "</style>\n",
       "<table border=\"1\" class=\"dataframe\">\n",
       "  <thead>\n",
       "    <tr style=\"text-align: right;\">\n",
       "      <th></th>\n",
       "      <th>Model name</th>\n",
       "      <th>MAE</th>\n",
       "      <th>MAPE</th>\n",
       "      <th>RMSE</th>\n",
       "    </tr>\n",
       "  </thead>\n",
       "  <tbody>\n",
       "    <tr>\n",
       "      <th>0</th>\n",
       "      <td>Linear Regression</td>\n",
       "      <td>1933.5 +/- 114.94</td>\n",
       "      <td>0.29 +/- 0.01</td>\n",
       "      <td>2762.64 +/- 204.44</td>\n",
       "    </tr>\n",
       "  </tbody>\n",
       "</table>\n",
       "</div>"
      ],
      "text/plain": [
       "          Model name                MAE           MAPE                RMSE\n",
       "0  Linear Regression  1933.5 +/- 114.94  0.29 +/- 0.01  2762.64 +/- 204.44"
      ]
     },
     "execution_count": 25,
     "metadata": {},
     "output_type": "execute_result"
    }
   ],
   "source": [
    "lr2 = LinearRegression()\n",
    "cross_validate(data, n_splits=5, model_name=\"Linear Regression\", model=lr2)"
   ]
  },
  {
   "cell_type": "code",
   "execution_count": 26,
   "id": "e74ebe1a-0b05-4b1b-ab07-a62f4ed1f21a",
   "metadata": {},
   "outputs": [
    {
     "data": {
      "text/html": [
       "<div>\n",
       "<style scoped>\n",
       "    .dataframe tbody tr th:only-of-type {\n",
       "        vertical-align: middle;\n",
       "    }\n",
       "\n",
       "    .dataframe tbody tr th {\n",
       "        vertical-align: top;\n",
       "    }\n",
       "\n",
       "    .dataframe thead th {\n",
       "        text-align: right;\n",
       "    }\n",
       "</style>\n",
       "<table border=\"1\" class=\"dataframe\">\n",
       "  <thead>\n",
       "    <tr style=\"text-align: right;\">\n",
       "      <th></th>\n",
       "      <th>Model name</th>\n",
       "      <th>MAE</th>\n",
       "      <th>MAPE</th>\n",
       "      <th>RMSE</th>\n",
       "    </tr>\n",
       "  </thead>\n",
       "  <tbody>\n",
       "    <tr>\n",
       "      <th>0</th>\n",
       "      <td>Random Forest</td>\n",
       "      <td>782.65 +/- 102.58</td>\n",
       "      <td>0.11 +/- 0.01</td>\n",
       "      <td>1162.14 +/- 147.13</td>\n",
       "    </tr>\n",
       "  </tbody>\n",
       "</table>\n",
       "</div>"
      ],
      "text/plain": [
       "      Model name                MAE           MAPE                RMSE\n",
       "0  Random Forest  782.65 +/- 102.58  0.11 +/- 0.01  1162.14 +/- 147.13"
      ]
     },
     "execution_count": 26,
     "metadata": {},
     "output_type": "execute_result"
    }
   ],
   "source": [
    "rf2 = RandomForestRegressor(n_estimators=10, random_state=0)\n",
    "cross_validate(data, n_splits=5, model_name=\"Random Forest\", model=rf2)"
   ]
  },
  {
   "cell_type": "markdown",
   "id": "10feca80-7d7a-4352-a5d4-e3bfb8195e40",
   "metadata": {},
   "source": [
    "# Returning the Data to Kaggle"
   ]
  },
  {
   "cell_type": "markdown",
   "id": "de3a0ee6-588b-49bf-99dd-d0ec81b1e221",
   "metadata": {},
   "source": [
    "## Test Data Loading"
   ]
  },
  {
   "cell_type": "code",
   "execution_count": 27,
   "id": "879eaf90-1807-4f2a-93af-3a5b92ae8e16",
   "metadata": {},
   "outputs": [],
   "source": [
    "df_test_raw = pd.read_csv(\"test.csv\", low_memory=False)\n",
    "df_store_raw = pd.read_csv(\"store.csv\", low_memory=False)"
   ]
  },
  {
   "cell_type": "code",
   "execution_count": 29,
   "id": "ae09b5e9-bc58-48ab-8a85-2391390e2333",
   "metadata": {},
   "outputs": [],
   "source": [
    "df_test = pd.merge(df_test_raw, df_store_raw, on=\"Store\", how=\"left\")"
   ]
  },
  {
   "cell_type": "markdown",
   "id": "93f37b17-33b8-436c-a5b9-237b2d3404a8",
   "metadata": {},
   "source": [
    "## Test Data Transformation"
   ]
  },
  {
   "cell_type": "code",
   "execution_count": 41,
   "id": "c1d2814c-15e1-444e-98c3-561285c8460e",
   "metadata": {},
   "outputs": [],
   "source": [
    "features = ['Store', 'DayOfWeek', 'Date', 'Promo', 'StoreType', 'Assortment', 'Promo2']\n",
    "df_test2 = df_test[features].copy()"
   ]
  },
  {
   "cell_type": "code",
   "execution_count": 46,
   "id": "b66035b5-c12b-4edb-a4b7-178aea48496f",
   "metadata": {},
   "outputs": [],
   "source": [
    "df_test2[\"Date\"] = df_test2[\"Date\"].astype(\"datetime64\")"
   ]
  },
  {
   "cell_type": "code",
   "execution_count": 43,
   "id": "567debdb-3f4e-4361-a211-161c18f7673e",
   "metadata": {},
   "outputs": [],
   "source": [
    "df_test2[\"StoreType\"] = le.transform(df_test2[\"StoreType\"])\n",
    "\n",
    "df_test2[\"Assortment\"] = df_test2[\"Assortment\"].map({\"a\":1, \"b\":2, \"c\":3})"
   ]
  },
  {
   "cell_type": "code",
   "execution_count": 47,
   "id": "1effcbc7-6aa2-4154-95ea-5b2a920d6f31",
   "metadata": {},
   "outputs": [],
   "source": [
    "df_test2[\"Day\"] = df_test2[\"Date\"].dt.day\n",
    "df_test2[\"Month\"] = df_test2[\"Date\"].dt.month\n",
    "df_test2[\"Year\"] = df_test2[\"Date\"].dt.year\n",
    "df_test2[\"Week\"] = df_test2[\"Date\"].dt.isocalendar().week"
   ]
  },
  {
   "cell_type": "code",
   "execution_count": 48,
   "id": "786a260f-a62c-4a99-8429-26ba355db19c",
   "metadata": {},
   "outputs": [],
   "source": [
    "df_test2[\"Day_sin\"] = df_test2[\"Day\"].apply(lambda x: np.sin(x * np.pi/31))\n",
    "df_test2[\"Day_cos\"] = df_test2[\"Day\"].apply(lambda x: np.cos(x * np.pi/31))\n",
    "\n",
    "df_test2[\"DayOfWeek_sin\"] = df_test2[\"DayOfWeek\"].apply(lambda x: np.sin(x * np.pi/7))\n",
    "df_test2[\"DayOfWeek_cos\"] = df_test2[\"DayOfWeek\"].apply(lambda x: np.cos(x * np.pi/7))\n",
    "\n",
    "df_test2[\"Week_sin\"] = df_test2[\"Week\"].apply(lambda x: np.sin(x * np.pi/52))\n",
    "df_test2[\"Week_cos\"] = df_test2[\"Week\"].apply(lambda x: np.cos(x * np.pi/52))\n",
    "\n",
    "df_test2[\"Month_sin\"] = df_test2[\"Month\"].apply(lambda x: np.sin(x * np.pi/12))\n",
    "df_test2[\"Month_cos\"] = df_test2[\"Month\"].apply(lambda x: np.cos(x * np.pi/12))"
   ]
  },
  {
   "cell_type": "code",
   "execution_count": 49,
   "id": "48e0def3-6ec0-4ae8-a1a3-ccee6dfc8955",
   "metadata": {},
   "outputs": [],
   "source": [
    "df_test2 = df_test2.drop(columns=[\"DayOfWeek\", \"Day\", \"Month\", \"Week\"])"
   ]
  },
  {
   "cell_type": "code",
   "execution_count": 54,
   "id": "a60e83b4-009b-4850-b2bc-da5942a0b7e0",
   "metadata": {},
   "outputs": [],
   "source": [
    "df_test_final = df_test2.drop(columns=[\"Date\"])"
   ]
  },
  {
   "cell_type": "code",
   "execution_count": 57,
   "id": "40d0b3b2-97e0-4b02-8c13-0577b4b05420",
   "metadata": {},
   "outputs": [
    {
     "data": {
      "text/html": [
       "<div>\n",
       "<style scoped>\n",
       "    .dataframe tbody tr th:only-of-type {\n",
       "        vertical-align: middle;\n",
       "    }\n",
       "\n",
       "    .dataframe tbody tr th {\n",
       "        vertical-align: top;\n",
       "    }\n",
       "\n",
       "    .dataframe thead th {\n",
       "        text-align: right;\n",
       "    }\n",
       "</style>\n",
       "<table border=\"1\" class=\"dataframe\">\n",
       "  <thead>\n",
       "    <tr style=\"text-align: right;\">\n",
       "      <th></th>\n",
       "      <th>Store</th>\n",
       "      <th>Promo</th>\n",
       "      <th>StoreType</th>\n",
       "      <th>Assortment</th>\n",
       "      <th>Promo2</th>\n",
       "      <th>Year</th>\n",
       "      <th>Day_sin</th>\n",
       "      <th>Day_cos</th>\n",
       "      <th>DayOfWeek_sin</th>\n",
       "      <th>DayOfWeek_cos</th>\n",
       "      <th>Week_sin</th>\n",
       "      <th>Week_cos</th>\n",
       "      <th>Month_sin</th>\n",
       "      <th>Month_cos</th>\n",
       "    </tr>\n",
       "  </thead>\n",
       "  <tbody>\n",
       "    <tr>\n",
       "      <th>0</th>\n",
       "      <td>1</td>\n",
       "      <td>1</td>\n",
       "      <td>2</td>\n",
       "      <td>1</td>\n",
       "      <td>0</td>\n",
       "      <td>2015</td>\n",
       "      <td>0.988468</td>\n",
       "      <td>-0.151428</td>\n",
       "      <td>0.974928</td>\n",
       "      <td>-0.222521</td>\n",
       "      <td>0.748511</td>\n",
       "      <td>-0.663123</td>\n",
       "      <td>0.707107</td>\n",
       "      <td>-0.707107</td>\n",
       "    </tr>\n",
       "    <tr>\n",
       "      <th>1</th>\n",
       "      <td>3</td>\n",
       "      <td>1</td>\n",
       "      <td>0</td>\n",
       "      <td>1</td>\n",
       "      <td>1</td>\n",
       "      <td>2015</td>\n",
       "      <td>0.988468</td>\n",
       "      <td>-0.151428</td>\n",
       "      <td>0.974928</td>\n",
       "      <td>-0.222521</td>\n",
       "      <td>0.748511</td>\n",
       "      <td>-0.663123</td>\n",
       "      <td>0.707107</td>\n",
       "      <td>-0.707107</td>\n",
       "    </tr>\n",
       "    <tr>\n",
       "      <th>2</th>\n",
       "      <td>7</td>\n",
       "      <td>1</td>\n",
       "      <td>0</td>\n",
       "      <td>3</td>\n",
       "      <td>0</td>\n",
       "      <td>2015</td>\n",
       "      <td>0.988468</td>\n",
       "      <td>-0.151428</td>\n",
       "      <td>0.974928</td>\n",
       "      <td>-0.222521</td>\n",
       "      <td>0.748511</td>\n",
       "      <td>-0.663123</td>\n",
       "      <td>0.707107</td>\n",
       "      <td>-0.707107</td>\n",
       "    </tr>\n",
       "    <tr>\n",
       "      <th>3</th>\n",
       "      <td>8</td>\n",
       "      <td>1</td>\n",
       "      <td>0</td>\n",
       "      <td>1</td>\n",
       "      <td>0</td>\n",
       "      <td>2015</td>\n",
       "      <td>0.988468</td>\n",
       "      <td>-0.151428</td>\n",
       "      <td>0.974928</td>\n",
       "      <td>-0.222521</td>\n",
       "      <td>0.748511</td>\n",
       "      <td>-0.663123</td>\n",
       "      <td>0.707107</td>\n",
       "      <td>-0.707107</td>\n",
       "    </tr>\n",
       "    <tr>\n",
       "      <th>4</th>\n",
       "      <td>9</td>\n",
       "      <td>1</td>\n",
       "      <td>0</td>\n",
       "      <td>3</td>\n",
       "      <td>0</td>\n",
       "      <td>2015</td>\n",
       "      <td>0.988468</td>\n",
       "      <td>-0.151428</td>\n",
       "      <td>0.974928</td>\n",
       "      <td>-0.222521</td>\n",
       "      <td>0.748511</td>\n",
       "      <td>-0.663123</td>\n",
       "      <td>0.707107</td>\n",
       "      <td>-0.707107</td>\n",
       "    </tr>\n",
       "    <tr>\n",
       "      <th>...</th>\n",
       "      <td>...</td>\n",
       "      <td>...</td>\n",
       "      <td>...</td>\n",
       "      <td>...</td>\n",
       "      <td>...</td>\n",
       "      <td>...</td>\n",
       "      <td>...</td>\n",
       "      <td>...</td>\n",
       "      <td>...</td>\n",
       "      <td>...</td>\n",
       "      <td>...</td>\n",
       "      <td>...</td>\n",
       "      <td>...</td>\n",
       "      <td>...</td>\n",
       "    </tr>\n",
       "    <tr>\n",
       "      <th>41083</th>\n",
       "      <td>1111</td>\n",
       "      <td>0</td>\n",
       "      <td>0</td>\n",
       "      <td>1</td>\n",
       "      <td>1</td>\n",
       "      <td>2015</td>\n",
       "      <td>0.101168</td>\n",
       "      <td>0.994869</td>\n",
       "      <td>0.433884</td>\n",
       "      <td>-0.900969</td>\n",
       "      <td>0.954721</td>\n",
       "      <td>-0.297503</td>\n",
       "      <td>0.866025</td>\n",
       "      <td>-0.500000</td>\n",
       "    </tr>\n",
       "    <tr>\n",
       "      <th>41084</th>\n",
       "      <td>1112</td>\n",
       "      <td>0</td>\n",
       "      <td>2</td>\n",
       "      <td>3</td>\n",
       "      <td>0</td>\n",
       "      <td>2015</td>\n",
       "      <td>0.101168</td>\n",
       "      <td>0.994869</td>\n",
       "      <td>0.433884</td>\n",
       "      <td>-0.900969</td>\n",
       "      <td>0.954721</td>\n",
       "      <td>-0.297503</td>\n",
       "      <td>0.866025</td>\n",
       "      <td>-0.500000</td>\n",
       "    </tr>\n",
       "    <tr>\n",
       "      <th>41085</th>\n",
       "      <td>1113</td>\n",
       "      <td>0</td>\n",
       "      <td>0</td>\n",
       "      <td>3</td>\n",
       "      <td>0</td>\n",
       "      <td>2015</td>\n",
       "      <td>0.101168</td>\n",
       "      <td>0.994869</td>\n",
       "      <td>0.433884</td>\n",
       "      <td>-0.900969</td>\n",
       "      <td>0.954721</td>\n",
       "      <td>-0.297503</td>\n",
       "      <td>0.866025</td>\n",
       "      <td>-0.500000</td>\n",
       "    </tr>\n",
       "    <tr>\n",
       "      <th>41086</th>\n",
       "      <td>1114</td>\n",
       "      <td>0</td>\n",
       "      <td>0</td>\n",
       "      <td>3</td>\n",
       "      <td>0</td>\n",
       "      <td>2015</td>\n",
       "      <td>0.101168</td>\n",
       "      <td>0.994869</td>\n",
       "      <td>0.433884</td>\n",
       "      <td>-0.900969</td>\n",
       "      <td>0.954721</td>\n",
       "      <td>-0.297503</td>\n",
       "      <td>0.866025</td>\n",
       "      <td>-0.500000</td>\n",
       "    </tr>\n",
       "    <tr>\n",
       "      <th>41087</th>\n",
       "      <td>1115</td>\n",
       "      <td>0</td>\n",
       "      <td>3</td>\n",
       "      <td>3</td>\n",
       "      <td>1</td>\n",
       "      <td>2015</td>\n",
       "      <td>0.101168</td>\n",
       "      <td>0.994869</td>\n",
       "      <td>0.433884</td>\n",
       "      <td>-0.900969</td>\n",
       "      <td>0.954721</td>\n",
       "      <td>-0.297503</td>\n",
       "      <td>0.866025</td>\n",
       "      <td>-0.500000</td>\n",
       "    </tr>\n",
       "  </tbody>\n",
       "</table>\n",
       "<p>41088 rows × 14 columns</p>\n",
       "</div>"
      ],
      "text/plain": [
       "       Store  Promo  StoreType  Assortment  Promo2  Year   Day_sin   Day_cos  \\\n",
       "0          1      1          2           1       0  2015  0.988468 -0.151428   \n",
       "1          3      1          0           1       1  2015  0.988468 -0.151428   \n",
       "2          7      1          0           3       0  2015  0.988468 -0.151428   \n",
       "3          8      1          0           1       0  2015  0.988468 -0.151428   \n",
       "4          9      1          0           3       0  2015  0.988468 -0.151428   \n",
       "...      ...    ...        ...         ...     ...   ...       ...       ...   \n",
       "41083   1111      0          0           1       1  2015  0.101168  0.994869   \n",
       "41084   1112      0          2           3       0  2015  0.101168  0.994869   \n",
       "41085   1113      0          0           3       0  2015  0.101168  0.994869   \n",
       "41086   1114      0          0           3       0  2015  0.101168  0.994869   \n",
       "41087   1115      0          3           3       1  2015  0.101168  0.994869   \n",
       "\n",
       "       DayOfWeek_sin  DayOfWeek_cos  Week_sin  Week_cos  Month_sin  Month_cos  \n",
       "0           0.974928      -0.222521  0.748511 -0.663123   0.707107  -0.707107  \n",
       "1           0.974928      -0.222521  0.748511 -0.663123   0.707107  -0.707107  \n",
       "2           0.974928      -0.222521  0.748511 -0.663123   0.707107  -0.707107  \n",
       "3           0.974928      -0.222521  0.748511 -0.663123   0.707107  -0.707107  \n",
       "4           0.974928      -0.222521  0.748511 -0.663123   0.707107  -0.707107  \n",
       "...              ...            ...       ...       ...        ...        ...  \n",
       "41083       0.433884      -0.900969  0.954721 -0.297503   0.866025  -0.500000  \n",
       "41084       0.433884      -0.900969  0.954721 -0.297503   0.866025  -0.500000  \n",
       "41085       0.433884      -0.900969  0.954721 -0.297503   0.866025  -0.500000  \n",
       "41086       0.433884      -0.900969  0.954721 -0.297503   0.866025  -0.500000  \n",
       "41087       0.433884      -0.900969  0.954721 -0.297503   0.866025  -0.500000  \n",
       "\n",
       "[41088 rows x 14 columns]"
      ]
     },
     "execution_count": 57,
     "metadata": {},
     "output_type": "execute_result"
    }
   ],
   "source": [
    "df_test_final"
   ]
  },
  {
   "cell_type": "code",
   "execution_count": 59,
   "id": "ea4f2190-5211-42e6-8393-9efc9b7e79c1",
   "metadata": {},
   "outputs": [],
   "source": [
    "final_predict = rf.predict(df_test_final)"
   ]
  },
  {
   "cell_type": "code",
   "execution_count": 61,
   "id": "1439f621-8d3a-432b-af95-2636cb377d2d",
   "metadata": {},
   "outputs": [],
   "source": [
    "final_predict_scaled = np.exp(final_predict)"
   ]
  },
  {
   "cell_type": "code",
   "execution_count": 62,
   "id": "57b2fbcb-a4c2-47f7-929c-c02c1bb531cf",
   "metadata": {},
   "outputs": [
    {
     "data": {
      "text/plain": [
       "array([ 4152.74432146,  8185.89981943,  8747.53408728, ...,\n",
       "        7277.25187813, 27799.05267874,  8917.01266758])"
      ]
     },
     "execution_count": 62,
     "metadata": {},
     "output_type": "execute_result"
    }
   ],
   "source": [
    "final_predict_scaled"
   ]
  },
  {
   "cell_type": "code",
   "execution_count": 67,
   "id": "fb462931-10d1-44e3-8869-1410c675d54d",
   "metadata": {},
   "outputs": [],
   "source": [
    "results = pd.DataFrame(final_predict_scaled, columns=[\"Sales\"]).reset_index()"
   ]
  },
  {
   "cell_type": "code",
   "execution_count": 69,
   "id": "a01cc883-ef62-4262-80e4-2dee246cf436",
   "metadata": {},
   "outputs": [],
   "source": [
    "results.columns = [\"Id\", \"Sales\"]"
   ]
  },
  {
   "cell_type": "code",
   "execution_count": 70,
   "id": "b5b3ea48-eba7-4007-8b6d-81309fed2db8",
   "metadata": {},
   "outputs": [],
   "source": [
    "results[\"Id\"] = results[\"Id\"] + 1"
   ]
  },
  {
   "cell_type": "code",
   "execution_count": 71,
   "id": "348acaae-366a-4749-911b-7ca79d0cde38",
   "metadata": {},
   "outputs": [
    {
     "data": {
      "text/html": [
       "<div>\n",
       "<style scoped>\n",
       "    .dataframe tbody tr th:only-of-type {\n",
       "        vertical-align: middle;\n",
       "    }\n",
       "\n",
       "    .dataframe tbody tr th {\n",
       "        vertical-align: top;\n",
       "    }\n",
       "\n",
       "    .dataframe thead th {\n",
       "        text-align: right;\n",
       "    }\n",
       "</style>\n",
       "<table border=\"1\" class=\"dataframe\">\n",
       "  <thead>\n",
       "    <tr style=\"text-align: right;\">\n",
       "      <th></th>\n",
       "      <th>Id</th>\n",
       "      <th>Sales</th>\n",
       "    </tr>\n",
       "  </thead>\n",
       "  <tbody>\n",
       "    <tr>\n",
       "      <th>0</th>\n",
       "      <td>1</td>\n",
       "      <td>4152.744321</td>\n",
       "    </tr>\n",
       "    <tr>\n",
       "      <th>1</th>\n",
       "      <td>2</td>\n",
       "      <td>8185.899819</td>\n",
       "    </tr>\n",
       "    <tr>\n",
       "      <th>2</th>\n",
       "      <td>3</td>\n",
       "      <td>8747.534087</td>\n",
       "    </tr>\n",
       "    <tr>\n",
       "      <th>3</th>\n",
       "      <td>4</td>\n",
       "      <td>7247.885453</td>\n",
       "    </tr>\n",
       "    <tr>\n",
       "      <th>4</th>\n",
       "      <td>5</td>\n",
       "      <td>7931.977075</td>\n",
       "    </tr>\n",
       "    <tr>\n",
       "      <th>...</th>\n",
       "      <td>...</td>\n",
       "      <td>...</td>\n",
       "    </tr>\n",
       "    <tr>\n",
       "      <th>41083</th>\n",
       "      <td>41084</td>\n",
       "      <td>3698.603491</td>\n",
       "    </tr>\n",
       "    <tr>\n",
       "      <th>41084</th>\n",
       "      <td>41085</td>\n",
       "      <td>9227.535139</td>\n",
       "    </tr>\n",
       "    <tr>\n",
       "      <th>41085</th>\n",
       "      <td>41086</td>\n",
       "      <td>7277.251878</td>\n",
       "    </tr>\n",
       "    <tr>\n",
       "      <th>41086</th>\n",
       "      <td>41087</td>\n",
       "      <td>27799.052679</td>\n",
       "    </tr>\n",
       "    <tr>\n",
       "      <th>41087</th>\n",
       "      <td>41088</td>\n",
       "      <td>8917.012668</td>\n",
       "    </tr>\n",
       "  </tbody>\n",
       "</table>\n",
       "<p>41088 rows × 2 columns</p>\n",
       "</div>"
      ],
      "text/plain": [
       "          Id         Sales\n",
       "0          1   4152.744321\n",
       "1          2   8185.899819\n",
       "2          3   8747.534087\n",
       "3          4   7247.885453\n",
       "4          5   7931.977075\n",
       "...      ...           ...\n",
       "41083  41084   3698.603491\n",
       "41084  41085   9227.535139\n",
       "41085  41086   7277.251878\n",
       "41086  41087  27799.052679\n",
       "41087  41088   8917.012668\n",
       "\n",
       "[41088 rows x 2 columns]"
      ]
     },
     "execution_count": 71,
     "metadata": {},
     "output_type": "execute_result"
    }
   ],
   "source": [
    "results"
   ]
  },
  {
   "cell_type": "code",
   "execution_count": 73,
   "id": "542aa2e4-e8b8-41b4-8bb2-5275646ab158",
   "metadata": {},
   "outputs": [],
   "source": [
    "results.to_csv(\"results.csv\", index=False)"
   ]
  },
  {
   "cell_type": "code",
   "execution_count": 1,
   "id": "3d2ef83b-a706-4f5a-a8af-719b054b8b39",
   "metadata": {},
   "outputs": [],
   "source": [
    "import pickle"
   ]
  },
  {
   "cell_type": "code",
   "execution_count": 4,
   "id": "b5ea9eb4",
   "metadata": {},
   "outputs": [],
   "source": [
    "import seaborn"
   ]
  },
  {
   "cell_type": "code",
   "execution_count": null,
   "id": "9234beb2",
   "metadata": {},
   "outputs": [],
   "source": []
  }
 ],
 "metadata": {
  "kernelspec": {
   "display_name": "Python 3 (ipykernel)",
   "language": "python",
   "name": "python3"
  },
  "language_info": {
   "codemirror_mode": {
    "name": "ipython",
    "version": 3
   },
   "file_extension": ".py",
   "mimetype": "text/x-python",
   "name": "python",
   "nbconvert_exporter": "python",
   "pygments_lexer": "ipython3",
   "version": "3.9.7"
  }
 },
 "nbformat": 4,
 "nbformat_minor": 5
}
