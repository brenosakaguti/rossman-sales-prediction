{
 "cells": [
  {
   "cell_type": "markdown",
   "id": "7b449dd7-de64-4964-94b7-bb1360f09a0e",
   "metadata": {
    "tags": []
   },
   "source": [
    "# Import"
   ]
  },
  {
   "cell_type": "code",
   "execution_count": 99,
   "id": "53d6c21e-dc8c-417c-b40f-df4724d15657",
   "metadata": {},
   "outputs": [],
   "source": [
    "import pandas as pd\n",
    "import matplotlib.pyplot as plt\n",
    "import seaborn as sns\n",
    "import datetime\n",
    "from random import choice"
   ]
  },
  {
   "cell_type": "code",
   "execution_count": 23,
   "id": "b90133ac-56f3-4b30-b94c-eb002efcc343",
   "metadata": {},
   "outputs": [],
   "source": [
    "df_sales_raw = pd.read_csv(\"train.csv\", low_memory=False)\n",
    "df_store_raw = pd.read_csv(\"store.csv\", low_memory=False)"
   ]
  },
  {
   "cell_type": "markdown",
   "id": "1347fd96-f08e-445f-a1f6-037eafae6d29",
   "metadata": {
    "tags": []
   },
   "source": [
    "# Data preparation"
   ]
  },
  {
   "cell_type": "markdown",
   "id": "66bdbcde-cbd1-4749-8e0b-dfd0b5e24746",
   "metadata": {
    "tags": []
   },
   "source": [
    "## Merge"
   ]
  },
  {
   "cell_type": "code",
   "execution_count": 24,
   "id": "19969140-55cb-4b3c-b84d-7d71768ea002",
   "metadata": {},
   "outputs": [],
   "source": [
    "df_raw = pd.merge(df_sales_raw, df_store_raw, on=\"Store\", how=\"left\")"
   ]
  },
  {
   "cell_type": "markdown",
   "id": "3135bda3-b90a-48f1-9931-815f7eaa60d3",
   "metadata": {},
   "source": [
    "## Data Types"
   ]
  },
  {
   "cell_type": "code",
   "execution_count": 70,
   "id": "bdbb97b6-6a58-469b-8cbe-0a7bc1b10339",
   "metadata": {},
   "outputs": [],
   "source": [
    "df_raw[\"CompetitionOpenSinceMonth\"] = df_raw[\"CompetitionOpenSinceMonth\"].astype(int)\n",
    "df_raw[\"CompetitionOpenSinceYear\"] = df_raw[\"CompetitionOpenSinceYear\"].astype(int)\n",
    "df_raw[\"Promo2SinceWeek\"] = df_raw[\"Promo2SinceWeek\"].astype(int)\n",
    "df_raw[\"Promo2SinceYear\"] = df_raw[\"Promo2SinceYear\"].astype(int)"
   ]
  },
  {
   "cell_type": "code",
   "execution_count": 25,
   "id": "b679b51f-c8c0-4705-83c4-92c3aff325e2",
   "metadata": {},
   "outputs": [],
   "source": [
    "df_raw[\"Date\"] = df_raw[\"Date\"].astype(\"datetime64\")"
   ]
  },
  {
   "cell_type": "markdown",
   "id": "c48582bd-f885-4093-8bac-47f06653dd99",
   "metadata": {},
   "source": [
    "## Excluding Columns and Rows"
   ]
  },
  {
   "cell_type": "code",
   "execution_count": 158,
   "id": "dc15935d-9582-44e3-8b4b-e42e09de9bb0",
   "metadata": {},
   "outputs": [],
   "source": [
    "df_raw = df_raw[(df_raw[\"Open\"] == 1) & (df_raw[\"Sales\"] > 0)]\n",
    "\n",
    "# Since we're using the model to predict sales, there's no way of knowing the number of customers in advance\n",
    "df_raw = df_raw.drop([\"Customers\", \"Open\"], axis=1)"
   ]
  },
  {
   "cell_type": "markdown",
   "id": "b6d0d224-3542-4aa7-8d86-0f2c1b6bc29a",
   "metadata": {},
   "source": [
    "## Handling NaN"
   ]
  },
  {
   "cell_type": "code",
   "execution_count": 26,
   "id": "aa42b522-696c-4190-aa92-4626a0891671",
   "metadata": {},
   "outputs": [
    {
     "data": {
      "text/plain": [
       "Store                             0\n",
       "DayOfWeek                         0\n",
       "Date                              0\n",
       "Sales                             0\n",
       "Customers                         0\n",
       "Open                              0\n",
       "Promo                             0\n",
       "StateHoliday                      0\n",
       "SchoolHoliday                     0\n",
       "StoreType                         0\n",
       "Assortment                        0\n",
       "CompetitionDistance            2642\n",
       "CompetitionOpenSinceMonth    323348\n",
       "CompetitionOpenSinceYear     323348\n",
       "Promo2                            0\n",
       "Promo2SinceWeek              508031\n",
       "Promo2SinceYear              508031\n",
       "PromoInterval                508031\n",
       "dtype: int64"
      ]
     },
     "execution_count": 26,
     "metadata": {},
     "output_type": "execute_result"
    }
   ],
   "source": [
    "df_raw.isna().sum()"
   ]
  },
  {
   "cell_type": "code",
   "execution_count": 27,
   "id": "9fcd68b1-c2a5-4efc-b1c6-f6e2193982b8",
   "metadata": {},
   "outputs": [
    {
     "name": "stdout",
     "output_type": "stream",
     "text": [
      "75860.0\n"
     ]
    }
   ],
   "source": [
    "max_distance = df_raw.CompetitionDistance.max()\n",
    "print(max_distance)"
   ]
  },
  {
   "cell_type": "code",
   "execution_count": 28,
   "id": "ec5f11f2-d4ff-45b0-832d-de937972c931",
   "metadata": {},
   "outputs": [],
   "source": [
    "df_raw[\"CompetitionDistance\"] = df_raw[\"CompetitionDistance\"].fillna(max_distance)"
   ]
  },
  {
   "cell_type": "code",
   "execution_count": 29,
   "id": "ab31d3b9-c7e4-4f3a-b56c-9c43b7af9a8d",
   "metadata": {},
   "outputs": [],
   "source": [
    "df_raw[\"CompetitionOpenSinceMonth\"] = df_raw.apply(lambda x: x[\"Date\"].month if pd.isna(x[\"CompetitionOpenSinceMonth\"]) else x[\"CompetitionOpenSinceMonth\"], axis=1)"
   ]
  },
  {
   "cell_type": "code",
   "execution_count": 30,
   "id": "66ddc596-026d-4ab1-b89f-36222fbab01d",
   "metadata": {},
   "outputs": [],
   "source": [
    "df_raw[\"CompetitionOpenSinceYear\"] = df_raw.apply(lambda x: x[\"Date\"].year if pd.isna(x[\"CompetitionOpenSinceYear\"]) else x[\"CompetitionOpenSinceYear\"], axis=1)"
   ]
  },
  {
   "cell_type": "code",
   "execution_count": 31,
   "id": "0be354db-ce46-4f18-bca6-b6d2c49c4ef3",
   "metadata": {},
   "outputs": [],
   "source": [
    "# When there's no promotion, we choose a random interval to try not to introduce biases to the data\n",
    "df_raw[\"PromoInterval\"] = df_raw[\"PromoInterval\"].apply(lambda x: choice(['Jan,Apr,Jul,Oct', 'Feb,May,Aug,Nov', 'Mar,Jun,Sept,Dec']) if pd.isna(x) else x)"
   ]
  },
  {
   "cell_type": "code",
   "execution_count": 32,
   "id": "c171a58e",
   "metadata": {},
   "outputs": [],
   "source": [
    "df_raw[\"Promo2SinceYear\"] = df_raw.apply(lambda x: x[\"Date\"].year if pd.isna(x[\"Promo2SinceYear\"]) else x[\"Promo2SinceYear\"], axis=1)"
   ]
  },
  {
   "cell_type": "code",
   "execution_count": 33,
   "id": "6742b9b5",
   "metadata": {},
   "outputs": [],
   "source": [
    "df_raw[\"Promo2SinceWeek\"] = df_raw.apply(lambda x: x[\"Date\"].week if pd.isna(x[\"Promo2SinceWeek\"]) else x[\"Promo2SinceWeek\"], axis=1)"
   ]
  },
  {
   "cell_type": "code",
   "execution_count": 34,
   "id": "71d577d2-1d2e-4b12-b4ea-9bd8f79dd363",
   "metadata": {},
   "outputs": [],
   "source": [
    "df_raw[\"StateHoliday\"] = df_raw[\"StateHoliday\"].apply(lambda x: \"public_holiday\" if x==\"a\" else \"easter\" if x==\"b\" else \"christmas\" if x==\"c\" else x)"
   ]
  },
  {
   "cell_type": "code",
   "execution_count": 35,
   "id": "e41667f0-d456-43a9-ab2f-f022c0f8508b",
   "metadata": {},
   "outputs": [],
   "source": [
    "df_raw[\"Assortment\"] = df_raw[\"Assortment\"].apply(lambda x: \"basic\" if x==\"a\" else \"extra\" if x==\"b\" else \"extended\")"
   ]
  },
  {
   "cell_type": "markdown",
   "id": "10f9c2d0",
   "metadata": {
    "tags": []
   },
   "source": [
    "# Descriptive Statistics"
   ]
  },
  {
   "cell_type": "code",
   "execution_count": 36,
   "id": "74729262-b797-4b48-a79e-6e144c48b67f",
   "metadata": {},
   "outputs": [],
   "source": [
    "df1 = df_raw.copy()\n",
    "num_attributes = df1.select_dtypes(include=[\"int64\", \"float64\"])"
   ]
  },
  {
   "cell_type": "code",
   "execution_count": 37,
   "id": "f524228d",
   "metadata": {},
   "outputs": [
    {
     "data": {
      "text/html": [
       "<div>\n",
       "<style scoped>\n",
       "    .dataframe tbody tr th:only-of-type {\n",
       "        vertical-align: middle;\n",
       "    }\n",
       "\n",
       "    .dataframe tbody tr th {\n",
       "        vertical-align: top;\n",
       "    }\n",
       "\n",
       "    .dataframe thead th {\n",
       "        text-align: right;\n",
       "    }\n",
       "</style>\n",
       "<table border=\"1\" class=\"dataframe\">\n",
       "  <thead>\n",
       "    <tr style=\"text-align: right;\">\n",
       "      <th></th>\n",
       "      <th>mean</th>\n",
       "      <th>median</th>\n",
       "      <th>std</th>\n",
       "      <th>min</th>\n",
       "      <th>max</th>\n",
       "      <th>skew</th>\n",
       "      <th>kurtosis</th>\n",
       "    </tr>\n",
       "  </thead>\n",
       "  <tbody>\n",
       "    <tr>\n",
       "      <th>Store</th>\n",
       "      <td>558.429727</td>\n",
       "      <td>558.0</td>\n",
       "      <td>321.908651</td>\n",
       "      <td>1.0</td>\n",
       "      <td>1115.0</td>\n",
       "      <td>-0.000955</td>\n",
       "      <td>-1.200524</td>\n",
       "    </tr>\n",
       "    <tr>\n",
       "      <th>DayOfWeek</th>\n",
       "      <td>3.998341</td>\n",
       "      <td>4.0</td>\n",
       "      <td>1.997391</td>\n",
       "      <td>1.0</td>\n",
       "      <td>7.0</td>\n",
       "      <td>0.001593</td>\n",
       "      <td>-1.246873</td>\n",
       "    </tr>\n",
       "    <tr>\n",
       "      <th>Sales</th>\n",
       "      <td>5773.818972</td>\n",
       "      <td>5744.0</td>\n",
       "      <td>3849.926175</td>\n",
       "      <td>0.0</td>\n",
       "      <td>41551.0</td>\n",
       "      <td>0.641460</td>\n",
       "      <td>1.778375</td>\n",
       "    </tr>\n",
       "    <tr>\n",
       "      <th>Customers</th>\n",
       "      <td>633.145946</td>\n",
       "      <td>609.0</td>\n",
       "      <td>464.411734</td>\n",
       "      <td>0.0</td>\n",
       "      <td>7388.0</td>\n",
       "      <td>1.598650</td>\n",
       "      <td>7.091773</td>\n",
       "    </tr>\n",
       "    <tr>\n",
       "      <th>Open</th>\n",
       "      <td>0.830107</td>\n",
       "      <td>1.0</td>\n",
       "      <td>0.375539</td>\n",
       "      <td>0.0</td>\n",
       "      <td>1.0</td>\n",
       "      <td>-1.758045</td>\n",
       "      <td>1.090723</td>\n",
       "    </tr>\n",
       "    <tr>\n",
       "      <th>Promo</th>\n",
       "      <td>0.381515</td>\n",
       "      <td>0.0</td>\n",
       "      <td>0.485759</td>\n",
       "      <td>0.0</td>\n",
       "      <td>1.0</td>\n",
       "      <td>0.487838</td>\n",
       "      <td>-1.762018</td>\n",
       "    </tr>\n",
       "    <tr>\n",
       "      <th>SchoolHoliday</th>\n",
       "      <td>0.178647</td>\n",
       "      <td>0.0</td>\n",
       "      <td>0.383056</td>\n",
       "      <td>0.0</td>\n",
       "      <td>1.0</td>\n",
       "      <td>1.677842</td>\n",
       "      <td>0.815154</td>\n",
       "    </tr>\n",
       "    <tr>\n",
       "      <th>CompetitionDistance</th>\n",
       "      <td>5613.013481</td>\n",
       "      <td>2330.0</td>\n",
       "      <td>8498.338271</td>\n",
       "      <td>20.0</td>\n",
       "      <td>75860.0</td>\n",
       "      <td>3.599472</td>\n",
       "      <td>19.780674</td>\n",
       "    </tr>\n",
       "    <tr>\n",
       "      <th>CompetitionOpenSinceMonth</th>\n",
       "      <td>6.786849</td>\n",
       "      <td>7.0</td>\n",
       "      <td>3.311087</td>\n",
       "      <td>1.0</td>\n",
       "      <td>12.0</td>\n",
       "      <td>-0.042076</td>\n",
       "      <td>-1.232607</td>\n",
       "    </tr>\n",
       "    <tr>\n",
       "      <th>CompetitionOpenSinceYear</th>\n",
       "      <td>2010.324840</td>\n",
       "      <td>2012.0</td>\n",
       "      <td>5.515593</td>\n",
       "      <td>1900.0</td>\n",
       "      <td>2015.0</td>\n",
       "      <td>-7.235657</td>\n",
       "      <td>124.071304</td>\n",
       "    </tr>\n",
       "    <tr>\n",
       "      <th>Promo2</th>\n",
       "      <td>0.500564</td>\n",
       "      <td>1.0</td>\n",
       "      <td>0.500000</td>\n",
       "      <td>0.0</td>\n",
       "      <td>1.0</td>\n",
       "      <td>-0.002255</td>\n",
       "      <td>-1.999999</td>\n",
       "    </tr>\n",
       "    <tr>\n",
       "      <th>Promo2SinceWeek</th>\n",
       "      <td>23.619033</td>\n",
       "      <td>22.0</td>\n",
       "      <td>14.310064</td>\n",
       "      <td>1.0</td>\n",
       "      <td>52.0</td>\n",
       "      <td>0.178723</td>\n",
       "      <td>-1.184046</td>\n",
       "    </tr>\n",
       "    <tr>\n",
       "      <th>Promo2SinceYear</th>\n",
       "      <td>2012.793297</td>\n",
       "      <td>2013.0</td>\n",
       "      <td>1.662658</td>\n",
       "      <td>2009.0</td>\n",
       "      <td>2015.0</td>\n",
       "      <td>-0.784436</td>\n",
       "      <td>-0.210075</td>\n",
       "    </tr>\n",
       "  </tbody>\n",
       "</table>\n",
       "</div>"
      ],
      "text/plain": [
       "                                  mean  median          std     min      max  \\\n",
       "Store                       558.429727   558.0   321.908651     1.0   1115.0   \n",
       "DayOfWeek                     3.998341     4.0     1.997391     1.0      7.0   \n",
       "Sales                      5773.818972  5744.0  3849.926175     0.0  41551.0   \n",
       "Customers                   633.145946   609.0   464.411734     0.0   7388.0   \n",
       "Open                          0.830107     1.0     0.375539     0.0      1.0   \n",
       "Promo                         0.381515     0.0     0.485759     0.0      1.0   \n",
       "SchoolHoliday                 0.178647     0.0     0.383056     0.0      1.0   \n",
       "CompetitionDistance        5613.013481  2330.0  8498.338271    20.0  75860.0   \n",
       "CompetitionOpenSinceMonth     6.786849     7.0     3.311087     1.0     12.0   \n",
       "CompetitionOpenSinceYear   2010.324840  2012.0     5.515593  1900.0   2015.0   \n",
       "Promo2                        0.500564     1.0     0.500000     0.0      1.0   \n",
       "Promo2SinceWeek              23.619033    22.0    14.310064     1.0     52.0   \n",
       "Promo2SinceYear            2012.793297  2013.0     1.662658  2009.0   2015.0   \n",
       "\n",
       "                               skew    kurtosis  \n",
       "Store                     -0.000955   -1.200524  \n",
       "DayOfWeek                  0.001593   -1.246873  \n",
       "Sales                      0.641460    1.778375  \n",
       "Customers                  1.598650    7.091773  \n",
       "Open                      -1.758045    1.090723  \n",
       "Promo                      0.487838   -1.762018  \n",
       "SchoolHoliday              1.677842    0.815154  \n",
       "CompetitionDistance        3.599472   19.780674  \n",
       "CompetitionOpenSinceMonth -0.042076   -1.232607  \n",
       "CompetitionOpenSinceYear  -7.235657  124.071304  \n",
       "Promo2                    -0.002255   -1.999999  \n",
       "Promo2SinceWeek            0.178723   -1.184046  \n",
       "Promo2SinceYear           -0.784436   -0.210075  "
      ]
     },
     "execution_count": 37,
     "metadata": {},
     "output_type": "execute_result"
    }
   ],
   "source": [
    "num_attributes.agg([\"mean\",\"median\",\"std\",\"min\",\"max\",\"skew\",\"kurtosis\"]).T"
   ]
  },
  {
   "cell_type": "code",
   "execution_count": 39,
   "id": "d67993fe",
   "metadata": {},
   "outputs": [
    {
     "data": {
      "text/plain": [
       "[Text(0, 0, 'Basic'), Text(1, 0, 'Extra'), Text(2, 0, 'Extended')]"
      ]
     },
     "execution_count": 39,
     "metadata": {},
     "output_type": "execute_result"
    },
    {
     "data": {
      "image/png": "[encoded data removed]",
      "text/plain": [
       "<Figure size 1440x432 with 3 Axes>"
      ]
     },
     "metadata": {
      "needs_background": "light"
     },
     "output_type": "display_data"
    }
   ],
   "source": [
    "aux = df1[(df1[\"StateHoliday\"] != \"0\") & (df1[\"Sales\"] > 0)]\n",
    "fig, ax = plt.subplots(figsize=(20,6))\n",
    "ax1 = plt.subplot(1,3,1)\n",
    "sns.boxplot(x=\"StateHoliday\", y=\"Sales\", data=aux, order=[\"public_holiday\",\"easter\",\"christmas\"], ax=ax1)\n",
    "ax1.set_xticklabels([\"Public Holiday\",\"Easter\",\"Christmas\"])\n",
    "ax2 = plt.subplot(1,3,2)\n",
    "sns.boxplot(x=\"StoreType\", order=[\"a\",\"b\",\"c\",\"d\"], y=\"Sales\", data=aux, ax=ax2)\n",
    "ax3 = plt.subplot(1,3,3)\n",
    "sns.boxplot(x=\"Assortment\", y=\"Sales\", order=[\"basic\",\"extra\",\"extended\"], data=aux, ax=ax3)\n",
    "ax3.set_xticklabels([\"Basic\", \"Extra\", \"Extended\"])"
   ]
  },
  {
   "cell_type": "markdown",
   "id": "45bd683e-653e-4b04-aaf2-4c109865bd31",
   "metadata": {
    "tags": []
   },
   "source": [
    "# Feature Engineering"
   ]
  },
  {
   "cell_type": "markdown",
   "id": "cfdb792c-6266-4261-9b52-f5f515bd2c6b",
   "metadata": {
    "tags": []
   },
   "source": [
    "## Hypotheses"
   ]
  },
  {
   "cell_type": "markdown",
   "id": "799843a3-678c-4b41-bd77-a57530ecf3d9",
   "metadata": {},
   "source": [
    "1. Stores with extra assortment sell more\n",
    "2. Stores with closer competition sell less\n",
    "3. Stores sell less on state holidays\n",
    "4. Stores sell less on school holidays\n",
    "5. Stores sell more as time goes on\n",
    "6. Stores sell less on weekends\n"
   ]
  },
  {
   "cell_type": "markdown",
   "id": "74df5396-5a2e-494b-a31d-714de55c1188",
   "metadata": {
    "tags": []
   },
   "source": [
    "## Hypothesis Testing"
   ]
  },
  {
   "cell_type": "markdown",
   "id": "af9e6dca-7154-465e-a5f6-0f9e5d082717",
   "metadata": {
    "tags": []
   },
   "source": [
    "### Data Manipulation"
   ]
  },
  {
   "cell_type": "code",
   "execution_count": 72,
   "id": "c091eb73-735d-4f9b-ae34-371ccbab1693",
   "metadata": {},
   "outputs": [],
   "source": [
    "df2 = df1.copy()"
   ]
  },
  {
   "cell_type": "code",
   "execution_count": 95,
   "id": "a7813a2d-f7c4-444f-9e3e-f82a211bb973",
   "metadata": {},
   "outputs": [],
   "source": [
    "df2[\"CompetitionSince\"] = df2.apply(lambda x: pd.Timestamp( year=x[\"CompetitionOpenSinceYear\"], month=x[\"CompetitionOpenSinceMonth\"], day=1), axis=1)\n",
    "df2[\"CompetitionSinceMonths\"] = (((df2[\"Date\"] - df2[\"CompetitionSince\"]).apply(lambda x: x.days))/30).astype(int)"
   ]
  },
  {
   "cell_type": "code",
   "execution_count": 141,
   "id": "29a24d91-0f6d-4bea-90c5-384134cbd75a",
   "metadata": {},
   "outputs": [],
   "source": [
    "df2[\"Promo2Since\"] = (df2[\"Promo2SinceYear\"].astype(str) + \"-\" + df2[\"Promo2SinceWeek\"].astype(str) + \"-1\")\n",
    "df2[\"Promo2Since\"] = df2[\"Promo2Since\"].apply(lambda x: datetime.datetime.strptime(x, \"%G-%V-%u\"))\n",
    "df2[\"Promo2AgeWeeks\"] = ((df2[\"Date\"] - df2[\"Promo2Since\"])/7).apply(lambda x: x.days).astype(int)"
   ]
  },
  {
   "cell_type": "code",
   "execution_count": 153,
   "id": "c099066a-9786-4ebf-9fdb-90e85743ab9e",
   "metadata": {},
   "outputs": [
    {
     "data": {
      "text/html": [
       "<div>\n",
       "<style scoped>\n",
       "    .dataframe tbody tr th:only-of-type {\n",
       "        vertical-align: middle;\n",
       "    }\n",
       "\n",
       "    .dataframe tbody tr th {\n",
       "        vertical-align: top;\n",
       "    }\n",
       "\n",
       "    .dataframe thead th {\n",
       "        text-align: right;\n",
       "    }\n",
       "</style>\n",
       "<table border=\"1\" class=\"dataframe\">\n",
       "  <thead>\n",
       "    <tr style=\"text-align: right;\">\n",
       "      <th></th>\n",
       "      <th>Store</th>\n",
       "      <th>DayOfWeek</th>\n",
       "      <th>Date</th>\n",
       "      <th>Sales</th>\n",
       "      <th>Customers</th>\n",
       "      <th>Open</th>\n",
       "      <th>Promo</th>\n",
       "      <th>StateHoliday</th>\n",
       "      <th>SchoolHoliday</th>\n",
       "      <th>StoreType</th>\n",
       "      <th>...</th>\n",
       "      <th>CompetitionOpenSinceMonth</th>\n",
       "      <th>CompetitionOpenSinceYear</th>\n",
       "      <th>Promo2</th>\n",
       "      <th>Promo2SinceWeek</th>\n",
       "      <th>Promo2SinceYear</th>\n",
       "      <th>PromoInterval</th>\n",
       "      <th>CompetitionSince</th>\n",
       "      <th>CompetitionSinceMonths</th>\n",
       "      <th>Promo2Since</th>\n",
       "      <th>Promo2AgeWeeks</th>\n",
       "    </tr>\n",
       "  </thead>\n",
       "  <tbody>\n",
       "    <tr>\n",
       "      <th>623111</th>\n",
       "      <td>612</td>\n",
       "      <td>5</td>\n",
       "      <td>2013-12-20</td>\n",
       "      <td>11453</td>\n",
       "      <td>670</td>\n",
       "      <td>1</td>\n",
       "      <td>1</td>\n",
       "      <td>0</td>\n",
       "      <td>0</td>\n",
       "      <td>d</td>\n",
       "      <td>...</td>\n",
       "      <td>11</td>\n",
       "      <td>2012</td>\n",
       "      <td>1</td>\n",
       "      <td>31</td>\n",
       "      <td>2009</td>\n",
       "      <td>Jan,Apr,Jul,Oct</td>\n",
       "      <td>2012-11-01</td>\n",
       "      <td>13</td>\n",
       "      <td>2009-07-27</td>\n",
       "      <td>229</td>\n",
       "    </tr>\n",
       "    <tr>\n",
       "      <th>703479</th>\n",
       "      <td>700</td>\n",
       "      <td>3</td>\n",
       "      <td>2013-10-09</td>\n",
       "      <td>4721</td>\n",
       "      <td>535</td>\n",
       "      <td>1</td>\n",
       "      <td>1</td>\n",
       "      <td>0</td>\n",
       "      <td>0</td>\n",
       "      <td>a</td>\n",
       "      <td>...</td>\n",
       "      <td>10</td>\n",
       "      <td>2013</td>\n",
       "      <td>1</td>\n",
       "      <td>27</td>\n",
       "      <td>2013</td>\n",
       "      <td>Jan,Apr,Jul,Oct</td>\n",
       "      <td>2013-10-01</td>\n",
       "      <td>0</td>\n",
       "      <td>2013-07-01</td>\n",
       "      <td>14</td>\n",
       "    </tr>\n",
       "    <tr>\n",
       "      <th>364813</th>\n",
       "      <td>402</td>\n",
       "      <td>6</td>\n",
       "      <td>2014-08-16</td>\n",
       "      <td>5703</td>\n",
       "      <td>643</td>\n",
       "      <td>1</td>\n",
       "      <td>0</td>\n",
       "      <td>0</td>\n",
       "      <td>0</td>\n",
       "      <td>c</td>\n",
       "      <td>...</td>\n",
       "      <td>9</td>\n",
       "      <td>2011</td>\n",
       "      <td>1</td>\n",
       "      <td>13</td>\n",
       "      <td>2010</td>\n",
       "      <td>Jan,Apr,Jul,Oct</td>\n",
       "      <td>2011-09-01</td>\n",
       "      <td>36</td>\n",
       "      <td>2010-03-29</td>\n",
       "      <td>228</td>\n",
       "    </tr>\n",
       "    <tr>\n",
       "      <th>939596</th>\n",
       "      <td>437</td>\n",
       "      <td>1</td>\n",
       "      <td>2013-03-11</td>\n",
       "      <td>4516</td>\n",
       "      <td>447</td>\n",
       "      <td>1</td>\n",
       "      <td>0</td>\n",
       "      <td>0</td>\n",
       "      <td>0</td>\n",
       "      <td>c</td>\n",
       "      <td>...</td>\n",
       "      <td>3</td>\n",
       "      <td>2013</td>\n",
       "      <td>1</td>\n",
       "      <td>50</td>\n",
       "      <td>2010</td>\n",
       "      <td>Jan,Apr,Jul,Oct</td>\n",
       "      <td>2013-03-01</td>\n",
       "      <td>0</td>\n",
       "      <td>2010-12-13</td>\n",
       "      <td>117</td>\n",
       "    </tr>\n",
       "    <tr>\n",
       "      <th>999359</th>\n",
       "      <td>1105</td>\n",
       "      <td>4</td>\n",
       "      <td>2013-01-17</td>\n",
       "      <td>1946</td>\n",
       "      <td>263</td>\n",
       "      <td>1</td>\n",
       "      <td>0</td>\n",
       "      <td>0</td>\n",
       "      <td>0</td>\n",
       "      <td>c</td>\n",
       "      <td>...</td>\n",
       "      <td>11</td>\n",
       "      <td>2008</td>\n",
       "      <td>1</td>\n",
       "      <td>5</td>\n",
       "      <td>2013</td>\n",
       "      <td>Feb,May,Aug,Nov</td>\n",
       "      <td>2008-11-01</td>\n",
       "      <td>51</td>\n",
       "      <td>2013-01-28</td>\n",
       "      <td>-2</td>\n",
       "    </tr>\n",
       "  </tbody>\n",
       "</table>\n",
       "<p>5 rows × 22 columns</p>\n",
       "</div>"
      ],
      "text/plain": [
       "        Store  DayOfWeek       Date  Sales  Customers  Open  Promo  \\\n",
       "623111    612          5 2013-12-20  11453        670     1      1   \n",
       "703479    700          3 2013-10-09   4721        535     1      1   \n",
       "364813    402          6 2014-08-16   5703        643     1      0   \n",
       "939596    437          1 2013-03-11   4516        447     1      0   \n",
       "999359   1105          4 2013-01-17   1946        263     1      0   \n",
       "\n",
       "       StateHoliday  SchoolHoliday StoreType  ... CompetitionOpenSinceMonth  \\\n",
       "623111            0              0         d  ...                        11   \n",
       "703479            0              0         a  ...                        10   \n",
       "364813            0              0         c  ...                         9   \n",
       "939596            0              0         c  ...                         3   \n",
       "999359            0              0         c  ...                        11   \n",
       "\n",
       "        CompetitionOpenSinceYear  Promo2  Promo2SinceWeek  Promo2SinceYear  \\\n",
       "623111                      2012       1               31             2009   \n",
       "703479                      2013       1               27             2013   \n",
       "364813                      2011       1               13             2010   \n",
       "939596                      2013       1               50             2010   \n",
       "999359                      2008       1                5             2013   \n",
       "\n",
       "          PromoInterval  CompetitionSince CompetitionSinceMonths Promo2Since  \\\n",
       "623111  Jan,Apr,Jul,Oct        2012-11-01                     13  2009-07-27   \n",
       "703479  Jan,Apr,Jul,Oct        2013-10-01                      0  2013-07-01   \n",
       "364813  Jan,Apr,Jul,Oct        2011-09-01                     36  2010-03-29   \n",
       "939596  Jan,Apr,Jul,Oct        2013-03-01                      0  2010-12-13   \n",
       "999359  Feb,May,Aug,Nov        2008-11-01                     51  2013-01-28   \n",
       "\n",
       "        Promo2AgeWeeks  \n",
       "623111             229  \n",
       "703479              14  \n",
       "364813             228  \n",
       "939596             117  \n",
       "999359              -2  \n",
       "\n",
       "[5 rows x 22 columns]"
      ]
     },
     "execution_count": 153,
     "metadata": {},
     "output_type": "execute_result"
    }
   ],
   "source": [
    "df2.sample(5)"
   ]
  },
  {
   "cell_type": "code",
   "execution_count": 91,
   "id": "ce4ace68-049c-4361-a8e2-18eea5e4900a",
   "metadata": {},
   "outputs": [
    {
     "data": {
      "text/plain": [
       "0          2524\n",
       "1          2829\n",
       "2          3164\n",
       "3          2159\n",
       "4           121\n",
       "           ... \n",
       "1017204    -516\n",
       "1017205    2467\n",
       "1017206       0\n",
       "1017207       0\n",
       "1017208       0\n",
       "Length: 1017209, dtype: int64"
      ]
     },
     "execution_count": 91,
     "metadata": {},
     "output_type": "execute_result"
    }
   ],
   "source": [
    "(df2.Date - df2.CompetitionSince).apply(lambda x: x.)"
   ]
  },
  {
   "cell_type": "code",
   "execution_count": 77,
   "id": "ea104342-3b7c-4759-bc90-98afed216c15",
   "metadata": {},
   "outputs": [
    {
     "data": {
      "text/html": [
       "<div>\n",
       "<style scoped>\n",
       "    .dataframe tbody tr th:only-of-type {\n",
       "        vertical-align: middle;\n",
       "    }\n",
       "\n",
       "    .dataframe tbody tr th {\n",
       "        vertical-align: top;\n",
       "    }\n",
       "\n",
       "    .dataframe thead th {\n",
       "        text-align: right;\n",
       "    }\n",
       "</style>\n",
       "<table border=\"1\" class=\"dataframe\">\n",
       "  <thead>\n",
       "    <tr style=\"text-align: right;\">\n",
       "      <th></th>\n",
       "      <th>Store</th>\n",
       "      <th>DayOfWeek</th>\n",
       "      <th>Date</th>\n",
       "      <th>Sales</th>\n",
       "      <th>Customers</th>\n",
       "      <th>Open</th>\n",
       "      <th>Promo</th>\n",
       "      <th>StateHoliday</th>\n",
       "      <th>SchoolHoliday</th>\n",
       "      <th>StoreType</th>\n",
       "      <th>Assortment</th>\n",
       "      <th>CompetitionDistance</th>\n",
       "      <th>CompetitionOpenSinceMonth</th>\n",
       "      <th>CompetitionOpenSinceYear</th>\n",
       "      <th>Promo2</th>\n",
       "      <th>Promo2SinceWeek</th>\n",
       "      <th>Promo2SinceYear</th>\n",
       "      <th>PromoInterval</th>\n",
       "      <th>CompetitionSince</th>\n",
       "    </tr>\n",
       "  </thead>\n",
       "  <tbody>\n",
       "    <tr>\n",
       "      <th>1017204</th>\n",
       "      <td>1111</td>\n",
       "      <td>2</td>\n",
       "      <td>2013-01-01</td>\n",
       "      <td>0</td>\n",
       "      <td>0</td>\n",
       "      <td>0</td>\n",
       "      <td>0</td>\n",
       "      <td>public_holiday</td>\n",
       "      <td>1</td>\n",
       "      <td>a</td>\n",
       "      <td>basic</td>\n",
       "      <td>1900.0</td>\n",
       "      <td>6</td>\n",
       "      <td>2014</td>\n",
       "      <td>1</td>\n",
       "      <td>31</td>\n",
       "      <td>2013</td>\n",
       "      <td>Jan,Apr,Jul,Oct</td>\n",
       "      <td>2014-06-01</td>\n",
       "    </tr>\n",
       "    <tr>\n",
       "      <th>1017205</th>\n",
       "      <td>1112</td>\n",
       "      <td>2</td>\n",
       "      <td>2013-01-01</td>\n",
       "      <td>0</td>\n",
       "      <td>0</td>\n",
       "      <td>0</td>\n",
       "      <td>0</td>\n",
       "      <td>public_holiday</td>\n",
       "      <td>1</td>\n",
       "      <td>c</td>\n",
       "      <td>extended</td>\n",
       "      <td>1880.0</td>\n",
       "      <td>4</td>\n",
       "      <td>2006</td>\n",
       "      <td>0</td>\n",
       "      <td>1</td>\n",
       "      <td>2013</td>\n",
       "      <td>Mar,Jun,Sept,Dec</td>\n",
       "      <td>2006-04-01</td>\n",
       "    </tr>\n",
       "    <tr>\n",
       "      <th>1017206</th>\n",
       "      <td>1113</td>\n",
       "      <td>2</td>\n",
       "      <td>2013-01-01</td>\n",
       "      <td>0</td>\n",
       "      <td>0</td>\n",
       "      <td>0</td>\n",
       "      <td>0</td>\n",
       "      <td>public_holiday</td>\n",
       "      <td>1</td>\n",
       "      <td>a</td>\n",
       "      <td>extended</td>\n",
       "      <td>9260.0</td>\n",
       "      <td>1</td>\n",
       "      <td>2013</td>\n",
       "      <td>0</td>\n",
       "      <td>1</td>\n",
       "      <td>2013</td>\n",
       "      <td>Feb,May,Aug,Nov</td>\n",
       "      <td>2013-01-01</td>\n",
       "    </tr>\n",
       "    <tr>\n",
       "      <th>1017207</th>\n",
       "      <td>1114</td>\n",
       "      <td>2</td>\n",
       "      <td>2013-01-01</td>\n",
       "      <td>0</td>\n",
       "      <td>0</td>\n",
       "      <td>0</td>\n",
       "      <td>0</td>\n",
       "      <td>public_holiday</td>\n",
       "      <td>1</td>\n",
       "      <td>a</td>\n",
       "      <td>extended</td>\n",
       "      <td>870.0</td>\n",
       "      <td>1</td>\n",
       "      <td>2013</td>\n",
       "      <td>0</td>\n",
       "      <td>1</td>\n",
       "      <td>2013</td>\n",
       "      <td>Jan,Apr,Jul,Oct</td>\n",
       "      <td>2013-01-01</td>\n",
       "    </tr>\n",
       "    <tr>\n",
       "      <th>1017208</th>\n",
       "      <td>1115</td>\n",
       "      <td>2</td>\n",
       "      <td>2013-01-01</td>\n",
       "      <td>0</td>\n",
       "      <td>0</td>\n",
       "      <td>0</td>\n",
       "      <td>0</td>\n",
       "      <td>public_holiday</td>\n",
       "      <td>1</td>\n",
       "      <td>d</td>\n",
       "      <td>extended</td>\n",
       "      <td>5350.0</td>\n",
       "      <td>1</td>\n",
       "      <td>2013</td>\n",
       "      <td>1</td>\n",
       "      <td>22</td>\n",
       "      <td>2012</td>\n",
       "      <td>Mar,Jun,Sept,Dec</td>\n",
       "      <td>2013-01-01</td>\n",
       "    </tr>\n",
       "  </tbody>\n",
       "</table>\n",
       "</div>"
      ],
      "text/plain": [
       "         Store  DayOfWeek       Date  Sales  Customers  Open  Promo  \\\n",
       "1017204   1111          2 2013-01-01      0          0     0      0   \n",
       "1017205   1112          2 2013-01-01      0          0     0      0   \n",
       "1017206   1113          2 2013-01-01      0          0     0      0   \n",
       "1017207   1114          2 2013-01-01      0          0     0      0   \n",
       "1017208   1115          2 2013-01-01      0          0     0      0   \n",
       "\n",
       "           StateHoliday  SchoolHoliday StoreType Assortment  \\\n",
       "1017204  public_holiday              1         a      basic   \n",
       "1017205  public_holiday              1         c   extended   \n",
       "1017206  public_holiday              1         a   extended   \n",
       "1017207  public_holiday              1         a   extended   \n",
       "1017208  public_holiday              1         d   extended   \n",
       "\n",
       "         CompetitionDistance  CompetitionOpenSinceMonth  \\\n",
       "1017204               1900.0                          6   \n",
       "1017205               1880.0                          4   \n",
       "1017206               9260.0                          1   \n",
       "1017207                870.0                          1   \n",
       "1017208               5350.0                          1   \n",
       "\n",
       "         CompetitionOpenSinceYear  Promo2  Promo2SinceWeek  Promo2SinceYear  \\\n",
       "1017204                      2014       1               31             2013   \n",
       "1017205                      2006       0                1             2013   \n",
       "1017206                      2013       0                1             2013   \n",
       "1017207                      2013       0                1             2013   \n",
       "1017208                      2013       1               22             2012   \n",
       "\n",
       "            PromoInterval CompetitionSince  \n",
       "1017204   Jan,Apr,Jul,Oct       2014-06-01  \n",
       "1017205  Mar,Jun,Sept,Dec       2006-04-01  \n",
       "1017206   Feb,May,Aug,Nov       2013-01-01  \n",
       "1017207   Jan,Apr,Jul,Oct       2013-01-01  \n",
       "1017208  Mar,Jun,Sept,Dec       2013-01-01  "
      ]
     },
     "execution_count": 77,
     "metadata": {},
     "output_type": "execute_result"
    }
   ],
   "source": [
    "df2[-5:]"
   ]
  },
  {
   "cell_type": "code",
   "execution_count": 130,
   "id": "465dc765-2e40-4180-94c7-358f15a4b282",
   "metadata": {},
   "outputs": [
    {
     "data": {
      "text/plain": [
       "datetime.datetime(2014, 12, 29, 0, 0)"
      ]
     },
     "execution_count": 135,
     "metadata": {},
     "output_type": "execute_result"
    }
   ],
   "source": [
    "datetime.datetime.strptime(\"2015-01-1\", \"%G-%V-%u\")"
   ]
  },
  {
   "cell_type": "code",
   "execution_count": 155,
   "id": "6c2897be-e9bc-4bde-bfca-73ddbcdbea7b",
   "metadata": {},
   "outputs": [
    {
     "data": {
      "text/plain": [
       "3"
      ]
     },
     "execution_count": 155,
     "metadata": {},
     "output_type": "execute_result"
    }
   ],
   "source": [
    "pd.Timestamp(\"2013-01-17\").week"
   ]
  },
  {
   "cell_type": "code",
   "execution_count": null,
   "id": "830d06df-0ac5-42ae-be8f-6e06a66b617a",
   "metadata": {},
   "outputs": [],
   "source": []
  }
 ],
 "metadata": {
  "kernelspec": {
   "display_name": "Python 3 (ipykernel)",
   "language": "python",
   "name": "python3"
  },
  "language_info": {
   "codemirror_mode": {
    "name": "ipython",
    "version": 3
   },
   "file_extension": ".py",
   "mimetype": "text/x-python",
   "name": "python",
   "nbconvert_exporter": "python",
   "pygments_lexer": "ipython3",
   "version": "3.9.7"
  }
 },
 "nbformat": 4,
 "nbformat_minor": 5
}
