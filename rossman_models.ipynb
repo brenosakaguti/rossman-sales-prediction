{
 "cells": [
  {
   "cell_type": "markdown",
   "id": "483988b3-c95f-406c-9654-16ce4d442958",
   "metadata": {},
   "source": [
    "# Rossman Sales Prediction - Part 2"
   ]
  },
  {
   "cell_type": "markdown",
   "id": "fd03c64d-45f2-45f2-a146-8a41e9e8c102",
   "metadata": {},
   "source": [
    "# Imports"
   ]
  },
  {
   "cell_type": "code",
   "execution_count": 137,
   "id": "31b66b64-87b5-472f-9ee9-b3b63aef79c0",
   "metadata": {},
   "outputs": [],
   "source": [
    "import pandas as pd\n",
    "import numpy as np\n",
    "import matplotlib.pyplot as plt\n",
    "import seaborn as sns\n",
    "\n",
    "import datetime\n",
    "from sklearn.preprocessing import RobustScaler, MinMaxScaler, LabelEncoder\n",
    "from sklearn.metrics import mean_absolute_error, mean_absolute_percentage_error, mean_squared_error\n",
    "from sklearn.linear_model import LinearRegression\n",
    "from sklearn.ensemble import RandomForestRegressor"
   ]
  },
  {
   "cell_type": "markdown",
   "id": "621b4ffe-b127-40e5-aa2c-7563434ba4e4",
   "metadata": {},
   "source": [
    "# Settings and Auxiliary Functions"
   ]
  },
  {
   "cell_type": "code",
   "execution_count": 2,
   "id": "20a8f80f-601f-45fd-9961-5b9b2cf2c53b",
   "metadata": {},
   "outputs": [],
   "source": [
    "plt.rcParams[\"figure.figsize\"] = [9,6]\n",
    "sns.set_theme()"
   ]
  },
  {
   "cell_type": "code",
   "execution_count": 3,
   "id": "182b6990-d026-449d-8058-45d036544991",
   "metadata": {},
   "outputs": [],
   "source": [
    "def calc_error( model_name, y_true, y_pred):\n",
    "    mae = mean_absolute_error(y_true, y_pred)\n",
    "    mape = mean_absolute_percentage_error(y_true, y_pred)\n",
    "    rmse = mean_squared_error(y_true, y_pred, squared=False)\n",
    "    \n",
    "    return pd.DataFrame({\"Model\": model_name, \"MAE\": mae, \"MAPE\": mape, \"RMSE\": rmse}, index=[0])"
   ]
  },
  {
   "cell_type": "code",
   "execution_count": 58,
   "id": "fff8c6d5-68d3-4503-ab35-a39833c92dae",
   "metadata": {},
   "outputs": [],
   "source": [
    "def plot_scatter(y_test, y_pred):\n",
    "    fig, ax = plt.subplots(figsize=(6,5))\n",
    "    min_x, max_x = y_test.min(), y_test.max()\n",
    "    sns.scatterplot(x=y_test, y=y_pred)\n",
    "    plt.plot([min_x, max_x],[min_x, max_x])\n",
    "    ax.set_xlabel(\"Actual Sales\")\n",
    "    ax.set_ylabel(\"Predicted Sales\")\n",
    "    return None  "
   ]
  },
  {
   "cell_type": "markdown",
   "id": "fbdcbf6d-54e2-4621-84e7-7a7fc491ca26",
   "metadata": {},
   "source": [
    "# Data Loading"
   ]
  },
  {
   "cell_type": "code",
   "execution_count": 121,
   "id": "b13f2e64-bb09-4b39-b3ab-b02b58bf3aa1",
   "metadata": {},
   "outputs": [],
   "source": [
    "data = pd.read_csv(\"filtered_data.cvs\", low_memory=False, index_col=0)"
   ]
  },
  {
   "cell_type": "code",
   "execution_count": 122,
   "id": "c97921ed-b6b5-4fb7-b656-4606581b3e0a",
   "metadata": {},
   "outputs": [
    {
     "data": {
      "text/html": [
       "<div>\n",
       "<style scoped>\n",
       "    .dataframe tbody tr th:only-of-type {\n",
       "        vertical-align: middle;\n",
       "    }\n",
       "\n",
       "    .dataframe tbody tr th {\n",
       "        vertical-align: top;\n",
       "    }\n",
       "\n",
       "    .dataframe thead th {\n",
       "        text-align: right;\n",
       "    }\n",
       "</style>\n",
       "<table border=\"1\" class=\"dataframe\">\n",
       "  <thead>\n",
       "    <tr style=\"text-align: right;\">\n",
       "      <th></th>\n",
       "      <th>Store</th>\n",
       "      <th>DayOfWeek</th>\n",
       "      <th>Date</th>\n",
       "      <th>Sales</th>\n",
       "      <th>Promo</th>\n",
       "      <th>StoreType</th>\n",
       "      <th>Assortment</th>\n",
       "      <th>Promo2</th>\n",
       "    </tr>\n",
       "  </thead>\n",
       "  <tbody>\n",
       "    <tr>\n",
       "      <th>0</th>\n",
       "      <td>1</td>\n",
       "      <td>5</td>\n",
       "      <td>2015-07-31</td>\n",
       "      <td>5263</td>\n",
       "      <td>1</td>\n",
       "      <td>c</td>\n",
       "      <td>basic</td>\n",
       "      <td>0</td>\n",
       "    </tr>\n",
       "    <tr>\n",
       "      <th>1</th>\n",
       "      <td>2</td>\n",
       "      <td>5</td>\n",
       "      <td>2015-07-31</td>\n",
       "      <td>6064</td>\n",
       "      <td>1</td>\n",
       "      <td>a</td>\n",
       "      <td>basic</td>\n",
       "      <td>1</td>\n",
       "    </tr>\n",
       "    <tr>\n",
       "      <th>2</th>\n",
       "      <td>3</td>\n",
       "      <td>5</td>\n",
       "      <td>2015-07-31</td>\n",
       "      <td>8314</td>\n",
       "      <td>1</td>\n",
       "      <td>a</td>\n",
       "      <td>basic</td>\n",
       "      <td>1</td>\n",
       "    </tr>\n",
       "    <tr>\n",
       "      <th>3</th>\n",
       "      <td>4</td>\n",
       "      <td>5</td>\n",
       "      <td>2015-07-31</td>\n",
       "      <td>13995</td>\n",
       "      <td>1</td>\n",
       "      <td>c</td>\n",
       "      <td>extended</td>\n",
       "      <td>0</td>\n",
       "    </tr>\n",
       "    <tr>\n",
       "      <th>4</th>\n",
       "      <td>5</td>\n",
       "      <td>5</td>\n",
       "      <td>2015-07-31</td>\n",
       "      <td>4822</td>\n",
       "      <td>1</td>\n",
       "      <td>a</td>\n",
       "      <td>basic</td>\n",
       "      <td>0</td>\n",
       "    </tr>\n",
       "  </tbody>\n",
       "</table>\n",
       "</div>"
      ],
      "text/plain": [
       "   Store  DayOfWeek        Date  Sales  Promo StoreType Assortment  Promo2\n",
       "0      1          5  2015-07-31   5263      1         c      basic       0\n",
       "1      2          5  2015-07-31   6064      1         a      basic       1\n",
       "2      3          5  2015-07-31   8314      1         a      basic       1\n",
       "3      4          5  2015-07-31  13995      1         c   extended       0\n",
       "4      5          5  2015-07-31   4822      1         a      basic       0"
      ]
     },
     "execution_count": 122,
     "metadata": {},
     "output_type": "execute_result"
    }
   ],
   "source": [
    "data.head()"
   ]
  },
  {
   "cell_type": "code",
   "execution_count": 128,
   "id": "fd788e5e-126c-4660-931c-b8d6f7c55399",
   "metadata": {},
   "outputs": [],
   "source": [
    "data[\"Date\"] = data[\"Date\"].astype(\"datetime64\")"
   ]
  },
  {
   "cell_type": "markdown",
   "id": "e62622ef-f7db-486f-88d5-25c516da30b3",
   "metadata": {},
   "source": [
    "# Data Preparation"
   ]
  },
  {
   "cell_type": "markdown",
   "id": "967c5381-8c17-46a4-bbea-3725687b4de2",
   "metadata": {},
   "source": [
    "## Encoding"
   ]
  },
  {
   "cell_type": "code",
   "execution_count": 124,
   "id": "650ef388-a913-40ad-b117-4b23cb36eef2",
   "metadata": {},
   "outputs": [],
   "source": [
    "le = LabelEncoder()\n",
    "data[\"StoreType\"] = le.fit_transform(data[\"StoreType\"])\n",
    "\n",
    "data[\"Assortment\"] = data[\"Assortment\"].map({\"basic\":1, \"extra\":2, \"extended\":3})"
   ]
  },
  {
   "cell_type": "markdown",
   "id": "125daf6a-8137-4ae2-a137-9a065bc77c2d",
   "metadata": {},
   "source": [
    "## Cyclical Variables"
   ]
  },
  {
   "cell_type": "code",
   "execution_count": 129,
   "id": "b8f6bf3e-f173-46fb-9e8a-0efe3a589a5d",
   "metadata": {},
   "outputs": [],
   "source": [
    "data[\"Day\"] = data[\"Date\"].dt.day\n",
    "data[\"Month\"] = data[\"Date\"].dt.month\n",
    "data[\"Year\"] = data[\"Date\"].dt.year\n",
    "data[\"Week\"] = data[\"Date\"].dt.isocalendar().week"
   ]
  },
  {
   "cell_type": "code",
   "execution_count": 130,
   "id": "7b8bb7b2-6462-4671-8711-1ad5acd50a78",
   "metadata": {},
   "outputs": [],
   "source": [
    "data[\"Day_sin\"] = data[\"Day\"].apply(lambda x: np.sin(x * np.pi/31))\n",
    "data[\"Day_cos\"] = data[\"Day\"].apply(lambda x: np.cos(x * np.pi/31))\n",
    "\n",
    "data[\"DayOfWeek_sin\"] = data[\"DayOfWeek\"].apply(lambda x: np.sin(x * np.pi/7))\n",
    "data[\"DayOfWeek_cos\"] = data[\"DayOfWeek\"].apply(lambda x: np.cos(x * np.pi/7))\n",
    "\n",
    "data[\"Week_sin\"] = data[\"Week\"].apply(lambda x: np.sin(x * np.pi/52))\n",
    "data[\"Week_cos\"] = data[\"Week\"].apply(lambda x: np.cos(x * np.pi/52))\n",
    "\n",
    "data[\"Month_sin\"] = data[\"Month\"].apply(lambda x: np.sin(x * np.pi/12))\n",
    "data[\"Month_cos\"] = data[\"Month\"].apply(lambda x: np.cos(x * np.pi/12))"
   ]
  },
  {
   "cell_type": "code",
   "execution_count": 131,
   "id": "76eb0fc5-e7f2-4173-a025-cdecc95ff93c",
   "metadata": {},
   "outputs": [],
   "source": [
    "data = data.drop(columns=[\"DayOfWeek\", \"Day\", \"Month\", \"Week\"])"
   ]
  },
  {
   "cell_type": "markdown",
   "id": "555b462e-b2db-4b7a-8843-41c6c5750beb",
   "metadata": {},
   "source": [
    "## Target Variable Transformation"
   ]
  },
  {
   "cell_type": "code",
   "execution_count": 132,
   "id": "09c41291-dc7f-4a0e-ae77-b86b643409c2",
   "metadata": {},
   "outputs": [],
   "source": [
    "data[\"Sales\"] = np.log(data[\"Sales\"])"
   ]
  },
  {
   "cell_type": "markdown",
   "id": "85d37697-4677-45e4-b729-ae29b8ab96da",
   "metadata": {},
   "source": [
    "# Feature Selection"
   ]
  },
  {
   "cell_type": "markdown",
   "id": "37dd3063-5dac-4821-ba77-48fe7fb4d567",
   "metadata": {},
   "source": [
    "## Test-train Split"
   ]
  },
  {
   "cell_type": "code",
   "execution_count": 133,
   "id": "58ee86c1-db92-4582-af18-f81a06248e31",
   "metadata": {},
   "outputs": [],
   "source": [
    "aux = data.copy()"
   ]
  },
  {
   "cell_type": "code",
   "execution_count": 138,
   "id": "ae605c60-dc8d-4b46-b2a7-5f3ccb710c90",
   "metadata": {},
   "outputs": [],
   "source": [
    "time_cutoff = aux[\"Date\"].max() - datetime.timedelta(days=42)\n",
    "\n",
    "train_df = aux[aux[\"Date\"] < time_cutoff]\n",
    "\n",
    "test_df = aux[aux[\"Date\"] >= time_cutoff]\n"
   ]
  },
  {
   "cell_type": "markdown",
   "id": "98aa56b7-5a88-4fd2-b271-0d129c6dbd3f",
   "metadata": {},
   "source": [
    "# Model Training"
   ]
  },
  {
   "cell_type": "markdown",
   "id": "b286c039-c217-41da-ba64-6610e2051cfe",
   "metadata": {},
   "source": [
    "## Baseline (Average) Model"
   ]
  },
  {
   "cell_type": "code",
   "execution_count": 103,
   "id": "e8c78dab-0012-4b14-83f0-50dd28b86162",
   "metadata": {},
   "outputs": [
    {
     "data": {
      "text/html": [
       "<div>\n",
       "<style scoped>\n",
       "    .dataframe tbody tr th:only-of-type {\n",
       "        vertical-align: middle;\n",
       "    }\n",
       "\n",
       "    .dataframe tbody tr th {\n",
       "        vertical-align: top;\n",
       "    }\n",
       "\n",
       "    .dataframe thead th {\n",
       "        text-align: right;\n",
       "    }\n",
       "</style>\n",
       "<table border=\"1\" class=\"dataframe\">\n",
       "  <thead>\n",
       "    <tr style=\"text-align: right;\">\n",
       "      <th></th>\n",
       "      <th>Model</th>\n",
       "      <th>MAE</th>\n",
       "      <th>MAPE</th>\n",
       "      <th>RMSE</th>\n",
       "    </tr>\n",
       "  </thead>\n",
       "  <tbody>\n",
       "    <tr>\n",
       "      <th>0</th>\n",
       "      <td>Baseline</td>\n",
       "      <td>1429.764812</td>\n",
       "      <td>0.216813</td>\n",
       "      <td>1939.336071</td>\n",
       "    </tr>\n",
       "  </tbody>\n",
       "</table>\n",
       "</div>"
      ],
      "text/plain": [
       "      Model          MAE      MAPE         RMSE\n",
       "0  Baseline  1429.764812  0.216813  1939.336071"
      ]
     },
     "execution_count": 103,
     "metadata": {},
     "output_type": "execute_result"
    }
   ],
   "source": [
    "aux1 = X_train.copy()\n",
    "aux1[\"Sales\"] = y_train.copy()\n",
    "aux1 = aux1[[\"Store\", \"Sales\"]].groupby(\"Store\").mean().reset_index()\n",
    "\n",
    "aux2 = X_test.copy()\n",
    "bl_pred = pd.merge(aux1, aux2, how=\"right\", on=\"Store\")[\"Sales\"]\n",
    "\n",
    "baseline_error = calc_error(\"Baseline\", np.exp(y_test).values, np.exp(bl_pred))\n",
    "baseline_error"
   ]
  },
  {
   "cell_type": "code",
   "execution_count": 104,
   "id": "f9e325f8-ebbe-4160-b224-e56a40c73852",
   "metadata": {},
   "outputs": [
    {
     "data": {
      "image/png": "[encoded data removed]",
      "text/plain": [
       "<Figure size 432x360 with 1 Axes>"
      ]
     },
     "metadata": {},
     "output_type": "display_data"
    }
   ],
   "source": [
    "plot_scatter(np.exp(y_test).values, np.exp(bl_pred))"
   ]
  },
  {
   "cell_type": "markdown",
   "id": "d714d35d-d150-4c50-8ca6-ee53ae509e56",
   "metadata": {},
   "source": [
    "## Linear Regression"
   ]
  },
  {
   "cell_type": "code",
   "execution_count": 119,
   "id": "96843e3a-d699-4723-9fa4-12b6a44e3e69",
   "metadata": {},
   "outputs": [
    {
     "data": {
      "text/html": [
       "<div>\n",
       "<style scoped>\n",
       "    .dataframe tbody tr th:only-of-type {\n",
       "        vertical-align: middle;\n",
       "    }\n",
       "\n",
       "    .dataframe tbody tr th {\n",
       "        vertical-align: top;\n",
       "    }\n",
       "\n",
       "    .dataframe thead th {\n",
       "        text-align: right;\n",
       "    }\n",
       "</style>\n",
       "<table border=\"1\" class=\"dataframe\">\n",
       "  <thead>\n",
       "    <tr style=\"text-align: right;\">\n",
       "      <th></th>\n",
       "      <th>Model</th>\n",
       "      <th>MAE</th>\n",
       "      <th>MAPE</th>\n",
       "      <th>RMSE</th>\n",
       "    </tr>\n",
       "  </thead>\n",
       "  <tbody>\n",
       "    <tr>\n",
       "      <th>0</th>\n",
       "      <td>Linear Regression</td>\n",
       "      <td>1872.234082</td>\n",
       "      <td>0.295008</td>\n",
       "      <td>2676.976699</td>\n",
       "    </tr>\n",
       "  </tbody>\n",
       "</table>\n",
       "</div>"
      ],
      "text/plain": [
       "               Model          MAE      MAPE         RMSE\n",
       "0  Linear Regression  1872.234082  0.295008  2676.976699"
      ]
     },
     "execution_count": 119,
     "metadata": {},
     "output_type": "execute_result"
    }
   ],
   "source": [
    "lr = LinearRegression().fit(X_train, y_train)\n",
    "l_pred = lr.predict(X_test)\n",
    "linear_error = calc_error(\"Linear Regression\", np.exp(y_test), np.exp(l_pred))\n",
    "linear_error"
   ]
  },
  {
   "cell_type": "code",
   "execution_count": 120,
   "id": "d411ef3d-1878-4264-8340-b623184c59af",
   "metadata": {},
   "outputs": [
    {
     "data": {
      "image/png": "[encoded data removed]",
      "text/plain": [
       "<Figure size 432x360 with 1 Axes>"
      ]
     },
     "metadata": {},
     "output_type": "display_data"
    }
   ],
   "source": [
    "plot_scatter(np.exp(y_test), np.exp(l_pred))"
   ]
  },
  {
   "cell_type": "markdown",
   "id": "4ad4ee9b-2831-4d5e-b496-a0eece07907d",
   "metadata": {},
   "source": [
    "## Random Forest Regression"
   ]
  },
  {
   "cell_type": "code",
   "execution_count": 109,
   "id": "79e58650-b135-4c9d-8417-f7a68613a0f8",
   "metadata": {
    "tags": []
   },
   "outputs": [],
   "source": [
    "rf = RandomForestRegressor(n_estimators=10, random_state=0)\n",
    "rf.fit(X_train, y_train)\n",
    "rf_pred = rf.predict(X_test)\n",
    "rf_error = calc_error(\"Random Forest\", np.exp(y_test), np.exp(rf_pred))"
   ]
  },
  {
   "cell_type": "code",
   "execution_count": 110,
   "id": "6f5c55a1-5eec-4570-b738-374a6d738dc5",
   "metadata": {},
   "outputs": [
    {
     "data": {
      "text/html": [
       "<div>\n",
       "<style scoped>\n",
       "    .dataframe tbody tr th:only-of-type {\n",
       "        vertical-align: middle;\n",
       "    }\n",
       "\n",
       "    .dataframe tbody tr th {\n",
       "        vertical-align: top;\n",
       "    }\n",
       "\n",
       "    .dataframe thead th {\n",
       "        text-align: right;\n",
       "    }\n",
       "</style>\n",
       "<table border=\"1\" class=\"dataframe\">\n",
       "  <thead>\n",
       "    <tr style=\"text-align: right;\">\n",
       "      <th></th>\n",
       "      <th>Model</th>\n",
       "      <th>MAE</th>\n",
       "      <th>MAPE</th>\n",
       "      <th>RMSE</th>\n",
       "    </tr>\n",
       "  </thead>\n",
       "  <tbody>\n",
       "    <tr>\n",
       "      <th>0</th>\n",
       "      <td>Random Forest</td>\n",
       "      <td>793.696372</td>\n",
       "      <td>0.117648</td>\n",
       "      <td>1219.825662</td>\n",
       "    </tr>\n",
       "  </tbody>\n",
       "</table>\n",
       "</div>"
      ],
      "text/plain": [
       "           Model         MAE      MAPE         RMSE\n",
       "0  Random Forest  793.696372  0.117648  1219.825662"
      ]
     },
     "execution_count": 110,
     "metadata": {},
     "output_type": "execute_result"
    }
   ],
   "source": [
    "rf_error"
   ]
  },
  {
   "cell_type": "code",
   "execution_count": 111,
   "id": "87731180-1371-4957-903d-3c1404b44f36",
   "metadata": {
    "tags": []
   },
   "outputs": [
    {
     "data": {
      "image/png": "[encoded data removed]",
      "text/plain": [
       "<Figure size 432x360 with 1 Axes>"
      ]
     },
     "metadata": {},
     "output_type": "display_data"
    }
   ],
   "source": [
    "plot_scatter(np.exp(y_test), np.exp(y_pred))"
   ]
  },
  {
   "cell_type": "code",
   "execution_count": 116,
   "id": "5f354e0a-a557-4366-95f6-604fa82d96e3",
   "metadata": {},
   "outputs": [
    {
     "data": {
      "text/html": [
       "<div>\n",
       "<style scoped>\n",
       "    .dataframe tbody tr th:only-of-type {\n",
       "        vertical-align: middle;\n",
       "    }\n",
       "\n",
       "    .dataframe tbody tr th {\n",
       "        vertical-align: top;\n",
       "    }\n",
       "\n",
       "    .dataframe thead th {\n",
       "        text-align: right;\n",
       "    }\n",
       "</style>\n",
       "<table border=\"1\" class=\"dataframe\">\n",
       "  <thead>\n",
       "    <tr style=\"text-align: right;\">\n",
       "      <th></th>\n",
       "      <th>0</th>\n",
       "    </tr>\n",
       "  </thead>\n",
       "  <tbody>\n",
       "    <tr>\n",
       "      <th>Store</th>\n",
       "      <td>0.561815</td>\n",
       "    </tr>\n",
       "    <tr>\n",
       "      <th>Promo</th>\n",
       "      <td>0.162220</td>\n",
       "    </tr>\n",
       "    <tr>\n",
       "      <th>StoreType</th>\n",
       "      <td>0.056532</td>\n",
       "    </tr>\n",
       "    <tr>\n",
       "      <th>Assortment</th>\n",
       "      <td>0.025197</td>\n",
       "    </tr>\n",
       "    <tr>\n",
       "      <th>Promo2</th>\n",
       "      <td>0.018932</td>\n",
       "    </tr>\n",
       "    <tr>\n",
       "      <th>Year</th>\n",
       "      <td>0.016009</td>\n",
       "    </tr>\n",
       "    <tr>\n",
       "      <th>Day_sin</th>\n",
       "      <td>0.025141</td>\n",
       "    </tr>\n",
       "    <tr>\n",
       "      <th>Day_cos</th>\n",
       "      <td>0.023552</td>\n",
       "    </tr>\n",
       "    <tr>\n",
       "      <th>DayOfWeek_sin</th>\n",
       "      <td>0.019890</td>\n",
       "    </tr>\n",
       "    <tr>\n",
       "      <th>DayOfWeek_cos</th>\n",
       "      <td>0.031679</td>\n",
       "    </tr>\n",
       "    <tr>\n",
       "      <th>Week_sin</th>\n",
       "      <td>0.011470</td>\n",
       "    </tr>\n",
       "    <tr>\n",
       "      <th>Week_cos</th>\n",
       "      <td>0.031238</td>\n",
       "    </tr>\n",
       "    <tr>\n",
       "      <th>Month_sin</th>\n",
       "      <td>0.006485</td>\n",
       "    </tr>\n",
       "    <tr>\n",
       "      <th>Month_cos</th>\n",
       "      <td>0.009840</td>\n",
       "    </tr>\n",
       "  </tbody>\n",
       "</table>\n",
       "</div>"
      ],
      "text/plain": [
       "                      0\n",
       "Store          0.561815\n",
       "Promo          0.162220\n",
       "StoreType      0.056532\n",
       "Assortment     0.025197\n",
       "Promo2         0.018932\n",
       "Year           0.016009\n",
       "Day_sin        0.025141\n",
       "Day_cos        0.023552\n",
       "DayOfWeek_sin  0.019890\n",
       "DayOfWeek_cos  0.031679\n",
       "Week_sin       0.011470\n",
       "Week_cos       0.031238\n",
       "Month_sin      0.006485\n",
       "Month_cos      0.009840"
      ]
     },
     "execution_count": 116,
     "metadata": {},
     "output_type": "execute_result"
    }
   ],
   "source": [
    "aux = pd.DataFrame(rf.feature_importances_).T\n",
    "aux.columns = X_test.columns\n",
    "aux.T\n"
   ]
  },
  {
   "cell_type": "code",
   "execution_count": 112,
   "id": "960e787f-ddff-499a-93d7-e8f67d087ab9",
   "metadata": {},
   "outputs": [
    {
     "data": {
      "text/html": [
       "<div>\n",
       "<style scoped>\n",
       "    .dataframe tbody tr th:only-of-type {\n",
       "        vertical-align: middle;\n",
       "    }\n",
       "\n",
       "    .dataframe tbody tr th {\n",
       "        vertical-align: top;\n",
       "    }\n",
       "\n",
       "    .dataframe thead th {\n",
       "        text-align: right;\n",
       "    }\n",
       "</style>\n",
       "<table border=\"1\" class=\"dataframe\">\n",
       "  <thead>\n",
       "    <tr style=\"text-align: right;\">\n",
       "      <th></th>\n",
       "      <th>Store</th>\n",
       "      <th>Promo</th>\n",
       "      <th>StoreType</th>\n",
       "      <th>Assortment</th>\n",
       "      <th>Promo2</th>\n",
       "      <th>Year</th>\n",
       "      <th>Day_sin</th>\n",
       "      <th>Day_cos</th>\n",
       "      <th>DayOfWeek_sin</th>\n",
       "      <th>DayOfWeek_cos</th>\n",
       "      <th>Week_sin</th>\n",
       "      <th>Week_cos</th>\n",
       "      <th>Month_sin</th>\n",
       "      <th>Month_cos</th>\n",
       "    </tr>\n",
       "  </thead>\n",
       "  <tbody>\n",
       "    <tr>\n",
       "      <th>0</th>\n",
       "      <td>1</td>\n",
       "      <td>1</td>\n",
       "      <td>2</td>\n",
       "      <td>1</td>\n",
       "      <td>0</td>\n",
       "      <td>2015</td>\n",
       "      <td>1.224647e-16</td>\n",
       "      <td>-1.0</td>\n",
       "      <td>0.781831</td>\n",
       "      <td>-0.62349</td>\n",
       "      <td>0.954721</td>\n",
       "      <td>-0.297503</td>\n",
       "      <td>0.965926</td>\n",
       "      <td>-0.258819</td>\n",
       "    </tr>\n",
       "    <tr>\n",
       "      <th>1</th>\n",
       "      <td>2</td>\n",
       "      <td>1</td>\n",
       "      <td>0</td>\n",
       "      <td>1</td>\n",
       "      <td>1</td>\n",
       "      <td>2015</td>\n",
       "      <td>1.224647e-16</td>\n",
       "      <td>-1.0</td>\n",
       "      <td>0.781831</td>\n",
       "      <td>-0.62349</td>\n",
       "      <td>0.954721</td>\n",
       "      <td>-0.297503</td>\n",
       "      <td>0.965926</td>\n",
       "      <td>-0.258819</td>\n",
       "    </tr>\n",
       "    <tr>\n",
       "      <th>2</th>\n",
       "      <td>3</td>\n",
       "      <td>1</td>\n",
       "      <td>0</td>\n",
       "      <td>1</td>\n",
       "      <td>1</td>\n",
       "      <td>2015</td>\n",
       "      <td>1.224647e-16</td>\n",
       "      <td>-1.0</td>\n",
       "      <td>0.781831</td>\n",
       "      <td>-0.62349</td>\n",
       "      <td>0.954721</td>\n",
       "      <td>-0.297503</td>\n",
       "      <td>0.965926</td>\n",
       "      <td>-0.258819</td>\n",
       "    </tr>\n",
       "    <tr>\n",
       "      <th>3</th>\n",
       "      <td>4</td>\n",
       "      <td>1</td>\n",
       "      <td>2</td>\n",
       "      <td>3</td>\n",
       "      <td>0</td>\n",
       "      <td>2015</td>\n",
       "      <td>1.224647e-16</td>\n",
       "      <td>-1.0</td>\n",
       "      <td>0.781831</td>\n",
       "      <td>-0.62349</td>\n",
       "      <td>0.954721</td>\n",
       "      <td>-0.297503</td>\n",
       "      <td>0.965926</td>\n",
       "      <td>-0.258819</td>\n",
       "    </tr>\n",
       "    <tr>\n",
       "      <th>4</th>\n",
       "      <td>5</td>\n",
       "      <td>1</td>\n",
       "      <td>0</td>\n",
       "      <td>1</td>\n",
       "      <td>0</td>\n",
       "      <td>2015</td>\n",
       "      <td>1.224647e-16</td>\n",
       "      <td>-1.0</td>\n",
       "      <td>0.781831</td>\n",
       "      <td>-0.62349</td>\n",
       "      <td>0.954721</td>\n",
       "      <td>-0.297503</td>\n",
       "      <td>0.965926</td>\n",
       "      <td>-0.258819</td>\n",
       "    </tr>\n",
       "  </tbody>\n",
       "</table>\n",
       "</div>"
      ],
      "text/plain": [
       "   Store  Promo  StoreType  Assortment  Promo2  Year       Day_sin  Day_cos  \\\n",
       "0      1      1          2           1       0  2015  1.224647e-16     -1.0   \n",
       "1      2      1          0           1       1  2015  1.224647e-16     -1.0   \n",
       "2      3      1          0           1       1  2015  1.224647e-16     -1.0   \n",
       "3      4      1          2           3       0  2015  1.224647e-16     -1.0   \n",
       "4      5      1          0           1       0  2015  1.224647e-16     -1.0   \n",
       "\n",
       "   DayOfWeek_sin  DayOfWeek_cos  Week_sin  Week_cos  Month_sin  Month_cos  \n",
       "0       0.781831       -0.62349  0.954721 -0.297503   0.965926  -0.258819  \n",
       "1       0.781831       -0.62349  0.954721 -0.297503   0.965926  -0.258819  \n",
       "2       0.781831       -0.62349  0.954721 -0.297503   0.965926  -0.258819  \n",
       "3       0.781831       -0.62349  0.954721 -0.297503   0.965926  -0.258819  \n",
       "4       0.781831       -0.62349  0.954721 -0.297503   0.965926  -0.258819  "
      ]
     },
     "execution_count": 112,
     "metadata": {},
     "output_type": "execute_result"
    }
   ],
   "source": [
    "X_test.head()"
   ]
  },
  {
   "cell_type": "code",
   "execution_count": 17,
   "id": "41059ccc-085e-4b9f-8e68-e8699edb8f06",
   "metadata": {},
   "outputs": [
    {
     "data": {
      "text/plain": [
       "array([      1,       2,       3, ..., 1014701,      -1,      -1],\n",
       "      dtype=int64)"
      ]
     },
     "execution_count": 17,
     "metadata": {},
     "output_type": "execute_result"
    }
   ],
   "source": [
    "rf.estimators_[0].tree_.children_left"
   ]
  },
  {
   "cell_type": "code",
   "execution_count": 45,
   "id": "49846766-c102-4960-9545-24299476728e",
   "metadata": {},
   "outputs": [
    {
     "data": {
      "text/plain": [
       "array([0.55615634, 0.16308157, 0.05836102, 0.02523247, 0.01934114,\n",
       "       0.01553172, 0.02533741, 0.02527898, 0.02846857, 0.02457657,\n",
       "       0.01056859, 0.03181811, 0.00854939, 0.00769812])"
      ]
     },
     "execution_count": 45,
     "metadata": {},
     "output_type": "execute_result"
    }
   ],
   "source": [
    "rf.estimators_[0].feature_importances_"
   ]
  },
  {
   "cell_type": "code",
   "execution_count": 46,
   "id": "7bb571d8-7e20-4cb2-8e7a-d39431059790",
   "metadata": {},
   "outputs": [
    {
     "data": {
      "text/plain": [
       "array([0.56181491, 0.16222049, 0.05653181, 0.0251971 , 0.01893244,\n",
       "       0.01600921, 0.02514145, 0.02355165, 0.01988968, 0.03167885,\n",
       "       0.01147041, 0.0312376 , 0.00648466, 0.00983976])"
      ]
     },
     "execution_count": 46,
     "metadata": {},
     "output_type": "execute_result"
    }
   ],
   "source": [
    "rf."
   ]
  },
  {
   "cell_type": "code",
   "execution_count": 47,
   "id": "a4cd300b-c75e-4bb4-a307-3151477e7ae4",
   "metadata": {},
   "outputs": [],
   "source": [
    "from sklearn import tree"
   ]
  },
  {
   "cell_type": "code",
   "execution_count": null,
   "id": "5dcc01f5-67a0-478c-958e-59d3746da819",
   "metadata": {},
   "outputs": [],
   "source": [
    "tree.plot_tree(rf.estimators_[0])"
   ]
  },
  {
   "cell_type": "code",
   "execution_count": 54,
   "id": "0e11cf4c-a49d-411d-9fa3-ab4ed3d0bfb9",
   "metadata": {},
   "outputs": [
    {
     "data": {
      "text/plain": [
       "6.698000225210672"
      ]
     },
     "execution_count": 54,
     "metadata": {},
     "output_type": "execute_result"
    }
   ],
   "source": [
    "y_pred.min()"
   ]
  },
  {
   "cell_type": "code",
   "execution_count": 55,
   "id": "28577077-d900-400c-8c4d-cee04191fc5e",
   "metadata": {},
   "outputs": [
    {
     "data": {
      "text/plain": [
       "6.343880434126331"
      ]
     },
     "execution_count": 55,
     "metadata": {},
     "output_type": "execute_result"
    }
   ],
   "source": [
    "y_test.min()"
   ]
  },
  {
   "cell_type": "code",
   "execution_count": null,
   "id": "9ee4f954-19cd-48b0-8713-41183de2535a",
   "metadata": {},
   "outputs": [],
   "source": []
  }
 ],
 "metadata": {
  "kernelspec": {
   "display_name": "Python 3 (ipykernel)",
   "language": "python",
   "name": "python3"
  },
  "language_info": {
   "codemirror_mode": {
    "name": "ipython",
    "version": 3
   },
   "file_extension": ".py",
   "mimetype": "text/x-python",
   "name": "python",
   "nbconvert_exporter": "python",
   "pygments_lexer": "ipython3",
   "version": "3.9.7"
  }
 },
 "nbformat": 4,
 "nbformat_minor": 5
}
