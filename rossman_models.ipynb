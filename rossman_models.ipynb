{
 "cells": [
  {
   "cell_type": "markdown",
   "id": "483988b3-c95f-406c-9654-16ce4d442958",
   "metadata": {},
   "source": [
    "# Rossman Sales Prediction - Part 2"
   ]
  },
  {
   "cell_type": "markdown",
   "id": "fd03c64d-45f2-45f2-a146-8a41e9e8c102",
   "metadata": {},
   "source": [
    "# Imports"
   ]
  },
  {
   "cell_type": "code",
   "execution_count": 1,
   "id": "31b66b64-87b5-472f-9ee9-b3b63aef79c0",
   "metadata": {},
   "outputs": [],
   "source": [
    "import pandas as pd\n",
    "import numpy as np\n",
    "import matplotlib.pyplot as plt\n",
    "import seaborn as sns\n",
    "from sklearn.metrics import mean_absolute_error, mean_absolute_percentage_error, mean_squared_error\n",
    "from sklearn.linear_model import LinearRegression\n",
    "from sklearn.ensemble import RandomForestRegressor"
   ]
  },
  {
   "cell_type": "markdown",
   "id": "621b4ffe-b127-40e5-aa2c-7563434ba4e4",
   "metadata": {},
   "source": [
    "# Settings and Auxiliary Functions"
   ]
  },
  {
   "cell_type": "code",
   "execution_count": 2,
   "id": "20a8f80f-601f-45fd-9961-5b9b2cf2c53b",
   "metadata": {},
   "outputs": [],
   "source": [
    "plt.rcParams[\"figure.figsize\"] = [9,6]\n",
    "sns.set_theme()"
   ]
  },
  {
   "cell_type": "code",
   "execution_count": 3,
   "id": "182b6990-d026-449d-8058-45d036544991",
   "metadata": {},
   "outputs": [],
   "source": [
    "def calc_error( model_name, y_true, y_pred):\n",
    "    mae = mean_absolute_error(y_true, y_pred)\n",
    "    mape = mean_absolute_percentage_error(y_true, y_pred)\n",
    "    rmse = mean_squared_error(y_true, y_pred, squared=False)\n",
    "    \n",
    "    return pd.DataFrame({\"Model\": model_name, \"MAE\": mae, \"MAPE\": mape, \"RMSE\": rmse}, index=[0])"
   ]
  },
  {
   "cell_type": "markdown",
   "id": "fbdcbf6d-54e2-4621-84e7-7a7fc491ca26",
   "metadata": {},
   "source": [
    "# Data Loading"
   ]
  },
  {
   "cell_type": "code",
   "execution_count": 17,
   "id": "b13f2e64-bb09-4b39-b3ab-b02b58bf3aa1",
   "metadata": {},
   "outputs": [],
   "source": [
    "X_train = pd.read_csv(\"training_set.csv\", low_memory=False, index_col=0)\n",
    "X_test = pd.read_csv(\"validation_set.csv\", low_memory=False, index_col=0)"
   ]
  },
  {
   "cell_type": "code",
   "execution_count": 18,
   "id": "c97921ed-b6b5-4fb7-b656-4606581b3e0a",
   "metadata": {},
   "outputs": [],
   "source": [
    "y_train = X_train[\"Sales\"]\n",
    "y_test = X_test[\"Sales\"]\n",
    "\n",
    "X_train = X_train.drop(columns=[\"Sales\"])\n",
    "X_test = X_test.drop(columns=[\"Sales\"])"
   ]
  },
  {
   "cell_type": "markdown",
   "id": "98aa56b7-5a88-4fd2-b271-0d129c6dbd3f",
   "metadata": {},
   "source": [
    "# Model Training"
   ]
  },
  {
   "cell_type": "markdown",
   "id": "b286c039-c217-41da-ba64-6610e2051cfe",
   "metadata": {},
   "source": [
    "## Baseline (Average) Model"
   ]
  },
  {
   "cell_type": "code",
   "execution_count": 19,
   "id": "e8c78dab-0012-4b14-83f0-50dd28b86162",
   "metadata": {},
   "outputs": [
    {
     "data": {
      "text/html": [
       "<div>\n",
       "<style scoped>\n",
       "    .dataframe tbody tr th:only-of-type {\n",
       "        vertical-align: middle;\n",
       "    }\n",
       "\n",
       "    .dataframe tbody tr th {\n",
       "        vertical-align: top;\n",
       "    }\n",
       "\n",
       "    .dataframe thead th {\n",
       "        text-align: right;\n",
       "    }\n",
       "</style>\n",
       "<table border=\"1\" class=\"dataframe\">\n",
       "  <thead>\n",
       "    <tr style=\"text-align: right;\">\n",
       "      <th></th>\n",
       "      <th>Model</th>\n",
       "      <th>MAE</th>\n",
       "      <th>MAPE</th>\n",
       "      <th>RMSE</th>\n",
       "    </tr>\n",
       "  </thead>\n",
       "  <tbody>\n",
       "    <tr>\n",
       "      <th>0</th>\n",
       "      <td>Baseline</td>\n",
       "      <td>1429.764812</td>\n",
       "      <td>0.216813</td>\n",
       "      <td>1939.336071</td>\n",
       "    </tr>\n",
       "  </tbody>\n",
       "</table>\n",
       "</div>"
      ],
      "text/plain": [
       "      Model          MAE      MAPE         RMSE\n",
       "0  Baseline  1429.764812  0.216813  1939.336071"
      ]
     },
     "execution_count": 19,
     "metadata": {},
     "output_type": "execute_result"
    }
   ],
   "source": [
    "aux1 = X_train.copy()\n",
    "aux1[\"Sales\"] = y_train.copy()\n",
    "aux1 = aux1[[\"Store\", \"Sales\"]].groupby(\"Store\").mean().reset_index()\n",
    "\n",
    "aux2 = X_test.copy()\n",
    "y_pred = pd.merge(aux1, aux2, how=\"right\", on=\"Store\")[\"Sales\"]\n",
    "\n",
    "baseline_error = calc_error(\"Baseline\", np.exp(y_test), np.exp(y_pred))\n",
    "baseline_error"
   ]
  },
  {
   "cell_type": "markdown",
   "id": "d714d35d-d150-4c50-8ca6-ee53ae509e56",
   "metadata": {},
   "source": [
    "## Linear Regression"
   ]
  },
  {
   "cell_type": "code",
   "execution_count": 20,
   "id": "96843e3a-d699-4723-9fa4-12b6a44e3e69",
   "metadata": {},
   "outputs": [
    {
     "data": {
      "text/html": [
       "<div>\n",
       "<style scoped>\n",
       "    .dataframe tbody tr th:only-of-type {\n",
       "        vertical-align: middle;\n",
       "    }\n",
       "\n",
       "    .dataframe tbody tr th {\n",
       "        vertical-align: top;\n",
       "    }\n",
       "\n",
       "    .dataframe thead th {\n",
       "        text-align: right;\n",
       "    }\n",
       "</style>\n",
       "<table border=\"1\" class=\"dataframe\">\n",
       "  <thead>\n",
       "    <tr style=\"text-align: right;\">\n",
       "      <th></th>\n",
       "      <th>Model</th>\n",
       "      <th>MAE</th>\n",
       "      <th>MAPE</th>\n",
       "      <th>RMSE</th>\n",
       "    </tr>\n",
       "  </thead>\n",
       "  <tbody>\n",
       "    <tr>\n",
       "      <th>0</th>\n",
       "      <td>Linear Regression</td>\n",
       "      <td>1872.234082</td>\n",
       "      <td>0.295008</td>\n",
       "      <td>2676.976699</td>\n",
       "    </tr>\n",
       "  </tbody>\n",
       "</table>\n",
       "</div>"
      ],
      "text/plain": [
       "               Model          MAE      MAPE         RMSE\n",
       "0  Linear Regression  1872.234082  0.295008  2676.976699"
      ]
     },
     "execution_count": 20,
     "metadata": {},
     "output_type": "execute_result"
    }
   ],
   "source": [
    "lr = LinearRegression().fit(X_train, y_train)\n",
    "y_pred = lr.predict(X_test)\n",
    "linear_error = calc_error(\"Linear Regression\", np.exp(y_test), np.exp(y_pred))\n",
    "linear_error"
   ]
  },
  {
   "cell_type": "markdown",
   "id": "4ad4ee9b-2831-4d5e-b496-a0eece07907d",
   "metadata": {},
   "source": [
    "## Random Forest Regression"
   ]
  },
  {
   "cell_type": "code",
   "execution_count": null,
   "id": "79e58650-b135-4c9d-8417-f7a68613a0f8",
   "metadata": {},
   "outputs": [],
   "source": [
    "rf = RandomForestRegressor(n_estimators=100)\n",
    "rf.fit(X_train, y_train)\n",
    "y_pred = rf.predict(X_test)\n",
    "rf_error = calc_error(\"Random Forest\", np.exp(y_test), np.exp(y_pred))"
   ]
  },
  {
   "cell_type": "code",
   "execution_count": null,
   "id": "6f5c55a1-5eec-4570-b738-374a6d738dc5",
   "metadata": {},
   "outputs": [],
   "source": []
  }
 ],
 "metadata": {
  "kernelspec": {
   "display_name": "Python 3 (ipykernel)",
   "language": "python",
   "name": "python3"
  },
  "language_info": {
   "codemirror_mode": {
    "name": "ipython",
    "version": 3
   },
   "file_extension": ".py",
   "mimetype": "text/x-python",
   "name": "python",
   "nbconvert_exporter": "python",
   "pygments_lexer": "ipython3",
   "version": "3.9.7"
  }
 },
 "nbformat": 4,
 "nbformat_minor": 5
}
